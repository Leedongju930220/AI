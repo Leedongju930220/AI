{
 "cells": [
  {
   "cell_type": "code",
   "execution_count": 3,
   "metadata": {
    "colab": {
     "autoexec": {
      "startup": false,
      "wait_interval": 0
     },
     "base_uri": "https://localhost:8080/",
     "height": 87,
     "output_extras": [
      {
       "item_id": 2
      }
     ]
    },
    "colab_type": "code",
    "executionInfo": {
     "elapsed": 2498,
     "status": "ok",
     "timestamp": 1520955768935,
     "user": {
      "displayName": "동주이",
      "photoUrl": "https://lh3.googleusercontent.com/a/default-user=s128",
      "userId": "100867287331611266719"
     },
     "user_tz": -540
    },
    "id": "NnXi-2rbA9Sy",
    "outputId": "c2c1b33d-8154-4af0-897e-0c9ccb994971"
   },
   "outputs": [
    {
     "name": "stdout",
     "output_type": "stream",
     "text": [
      "Successfully downloaded train-images-idx3-ubyte.gz 9912422 bytes.\n",
      "Extracting .\\mnist\\data\\train-images-idx3-ubyte.gz\n",
      "Successfully downloaded train-labels-idx1-ubyte.gz 28881 bytes.\n",
      "Extracting .\\mnist\\data\\train-labels-idx1-ubyte.gz\n",
      "Successfully downloaded t10k-images-idx3-ubyte.gz 1648877 bytes.\n",
      "Extracting .\\mnist\\data\\t10k-images-idx3-ubyte.gz\n",
      "Successfully downloaded t10k-labels-idx1-ubyte.gz 4542 bytes.\n",
      "Extracting .\\mnist\\data\\t10k-labels-idx1-ubyte.gz\n"
     ]
    }
   ],
   "source": [
    "import tensorflow as tf\n",
    "import matplotlib.pyplot as plt\n",
    "\n",
    "from tensorflow.examples.tutorials.mnist import input_data\n",
    "mnist = input_data.read_data_sets(\".\\\\mnist\\\\data\\\\\", one_hot= True)"
   ]
  },
  {
   "cell_type": "code",
   "execution_count": 4,
   "metadata": {
    "colab": {
     "autoexec": {
      "startup": false,
      "wait_interval": 0
     }
    },
    "colab_type": "code",
    "id": "B8vbfWrpB34f"
   },
   "outputs": [],
   "source": [
    "X = tf.placeholder(tf.float32, [None ,28, 28, 1])\n",
    "Y = tf.placeholder(tf.float32, [None ,10])\n",
    "is_training = tf.placeholder(tf.bool)"
   ]
  },
  {
   "cell_type": "code",
   "execution_count": 5,
   "metadata": {
    "colab": {
     "autoexec": {
      "startup": false,
      "wait_interval": 0
     }
    },
    "colab_type": "code",
    "id": "0xV3TDcDCIiS"
   },
   "outputs": [],
   "source": [
    "L1 = tf.layers.conv2d(X, 32, [3,3])\n",
    "L1 = tf.layers.max_pooling2d(L1, [2,2],[2,2])\n",
    "L1 = tf.layers.dropout(L1, 0.7, is_training)"
   ]
  },
  {
   "cell_type": "code",
   "execution_count": 6,
   "metadata": {
    "colab": {
     "autoexec": {
      "startup": false,
      "wait_interval": 0
     }
    },
    "colab_type": "code",
    "id": "LmfXGgDiCceo"
   },
   "outputs": [],
   "source": [
    "L2 = tf.layers.conv2d(L1, 64, [3,3])\n",
    "L2 = tf.layers.max_pooling2d(L2, [2,2], [2,2])\n",
    "L2 = tf.layers.dropout(L2, 0.7, is_training)"
   ]
  },
  {
   "cell_type": "code",
   "execution_count": 7,
   "metadata": {
    "colab": {
     "autoexec": {
      "startup": false,
      "wait_interval": 0
     }
    },
    "colab_type": "code",
    "id": "qcTwIAQPC-ls"
   },
   "outputs": [],
   "source": [
    "L3 = tf.contrib.layers.flatten(L2)\n",
    "L3 = tf.layers.dense(L3, 256 ,activation = tf.nn.relu)\n",
    "L3 = tf.layers.dropout(L3, 0.5, is_training)"
   ]
  },
  {
   "cell_type": "code",
   "execution_count": 8,
   "metadata": {
    "colab": {
     "autoexec": {
      "startup": false,
      "wait_interval": 0
     }
    },
    "colab_type": "code",
    "id": "uXM3ZYmQD9Ya"
   },
   "outputs": [],
   "source": [
    "model = tf.layers.dense(L3, 10, activation = None)"
   ]
  },
  {
   "cell_type": "code",
   "execution_count": 9,
   "metadata": {
    "colab": {
     "autoexec": {
      "startup": false,
      "wait_interval": 0
     }
    },
    "colab_type": "code",
    "id": "HEfUErpzEvn1"
   },
   "outputs": [],
   "source": [
    "cost = tf.reduce_mean(tf.nn.softmax_cross_entropy_with_logits_v2(\n",
    "                          logits = model, labels = Y))\n",
    "optimizer = tf.train.AdamOptimizer(0.001).minimize(cost)"
   ]
  },
  {
   "cell_type": "code",
   "execution_count": 10,
   "metadata": {
    "colab": {
     "autoexec": {
      "startup": false,
      "wait_interval": 0
     }
    },
    "colab_type": "code",
    "id": "Rj5ureXIFHu1"
   },
   "outputs": [],
   "source": [
    "init = tf.global_variables_initializer()\n",
    "sess = tf.Session()\n",
    "sess.run(init)"
   ]
  },
  {
   "cell_type": "code",
   "execution_count": 11,
   "metadata": {
    "colab": {
     "autoexec": {
      "startup": false,
      "wait_interval": 0
     }
    },
    "colab_type": "code",
    "id": "_8rhMz17F7bd"
   },
   "outputs": [],
   "source": [
    "batch_size =100\n",
    "total_batch = int(mnist.train.num_examples / batch_size)"
   ]
  },
  {
   "cell_type": "code",
   "execution_count": 12,
   "metadata": {
    "colab": {
     "autoexec": {
      "startup": false,
      "wait_interval": 0
     },
     "base_uri": "https://localhost:8080/",
     "height": 299,
     "output_extras": [
      {
       "item_id": 15
      }
     ]
    },
    "colab_type": "code",
    "executionInfo": {
     "elapsed": 632735,
     "status": "ok",
     "timestamp": 1520958524696,
     "user": {
      "displayName": "동주이",
      "photoUrl": "https://lh3.googleusercontent.com/a/default-user=s128",
      "userId": "100867287331611266719"
     },
     "user_tz": -540
    },
    "id": "as7uk5-dGEqZ",
    "outputId": "0afbecb2-35eb-47cf-e40a-8983b103b0f1"
   },
   "outputs": [
    {
     "name": "stdout",
     "output_type": "stream",
     "text": [
      "Epoch: 0001 Avg. cost = 0.181783\n",
      "Epoch: 0002 Avg. cost = 0.051012\n",
      "Epoch: 0003 Avg. cost = 0.032901\n",
      "Epoch: 0004 Avg. cost = 0.022480\n",
      "Epoch: 0005 Avg. cost = 0.017381\n",
      "Epoch: 0006 Avg. cost = 0.013081\n",
      "Epoch: 0007 Avg. cost = 0.011970\n",
      "Epoch: 0008 Avg. cost = 0.010117\n",
      "Epoch: 0009 Avg. cost = 0.008602\n",
      "Epoch: 0010 Avg. cost = 0.010996\n",
      "Epoch: 0011 Avg. cost = 0.005594\n",
      "Epoch: 0012 Avg. cost = 0.002637\n",
      "Epoch: 0013 Avg. cost = 0.004415\n",
      "Epoch: 0014 Avg. cost = 0.011222\n",
      "Epoch: 0015 Avg. cost = 0.004291\n",
      "최적화 완료\n"
     ]
    }
   ],
   "source": [
    "for epoch in range(15):\n",
    "    total_cost = 0\n",
    "    \n",
    "    for i in range(total_batch):\n",
    "        batch_xs, batch_ys = mnist.train.next_batch(batch_size)\n",
    "        batch_xs = batch_xs.reshape(-1, 28, 28, 1)\n",
    "        _, cost_val = sess.run([optimizer, cost],\n",
    "                              feed_dict = {X: batch_xs,\n",
    "                                          Y: batch_ys,\n",
    "                                          is_training: True})\n",
    "        total_cost += cost_val\n",
    "        \n",
    "        \n",
    "    print('Epoch:', '%04d' % (epoch + 1),\n",
    "         'Avg. cost =', '{:4f}'.format(total_cost / total_batch))\n",
    "    \n",
    "print('최적화 완료')"
   ]
  },
  {
   "cell_type": "code",
   "execution_count": 13,
   "metadata": {
    "colab": {
     "autoexec": {
      "startup": false,
      "wait_interval": 0
     }
    },
    "colab_type": "code",
    "id": "xb7u4oXcH16w"
   },
   "outputs": [],
   "source": [
    "is_correct = tf.equal(tf.argmax(model, 1), tf.argmax(Y, 1))\n",
    "accuracy = tf.reduce_mean(tf.cast(is_correct, tf.float32))\n"
   ]
  },
  {
   "cell_type": "code",
   "execution_count": 15,
   "metadata": {
    "colab": {
     "autoexec": {
      "startup": false,
      "wait_interval": 0
     },
     "base_uri": "https://localhost:8080/",
     "height": 35,
     "output_extras": [
      {
       "item_id": 1
      }
     ]
    },
    "colab_type": "code",
    "executionInfo": {
     "elapsed": 5883,
     "status": "ok",
     "timestamp": 1520958665750,
     "user": {
      "displayName": "동주이",
      "photoUrl": "https://lh3.googleusercontent.com/a/default-user=s128",
      "userId": "100867287331611266719"
     },
     "user_tz": -540
    },
    "id": "m7FazOeWMj1-",
    "outputId": "9a95f235-167e-4487-c0a2-29d026f988a0"
   },
   "outputs": [
    {
     "name": "stdout",
     "output_type": "stream",
     "text": [
      "정확도: 0.9886\n"
     ]
    }
   ],
   "source": [
    "print('정확도:', sess.run(accuracy, feed_dict= {X: mnist.test.images.reshape(\n",
    "                                                     -1, 28, 28, 1),\n",
    "                                                Y: mnist.test.labels,\n",
    "                                                is_training: False}))"
   ]
  }
 ],
 "metadata": {
  "accelerator": "GPU",
  "colab": {
   "collapsed_sections": [],
   "default_view": {},
   "name": "Untitled1.ipynb",
   "provenance": [],
   "version": "0.3.2",
   "views": {}
  },
  "kernelspec": {
   "display_name": "Python [default]",
   "language": "python",
   "name": "python3"
  },
  "language_info": {
   "codemirror_mode": {
    "name": "ipython",
    "version": 3
   },
   "file_extension": ".py",
   "mimetype": "text/x-python",
   "name": "python",
   "nbconvert_exporter": "python",
   "pygments_lexer": "ipython3",
   "version": "3.6.4"
  }
 },
 "nbformat": 4,
 "nbformat_minor": 1
}
