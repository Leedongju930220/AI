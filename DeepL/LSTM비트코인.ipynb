{
  "nbformat": 4,
  "nbformat_minor": 0,
  "metadata": {
    "colab": {
      "name": "LSTM비트코인.ipynb",
      "version": "0.3.2",
      "views": {},
      "default_view": {},
      "provenance": []
    },
    "kernelspec": {
      "name": "python3",
      "display_name": "Python 3"
    },
    "accelerator": "GPU"
  },
  "cells": [
    {
      "metadata": {
        "id": "hGxPEKGR8JA7",
        "colab_type": "code",
        "colab": {
          "autoexec": {
            "startup": false,
            "wait_interval": 0
          }
        }
      },
      "cell_type": "code",
      "source": [
        "import tensorflow as tf\n",
        "import numpy as np\n",
        "import matplotlib\n",
        "import os\n",
        "import pandas as pd\n",
        "import matplotlib.pyplot as plt\n",
        "from sklearn.preprocessing import StandardScaler"
      ],
      "execution_count": 0,
      "outputs": []
    },
    {
      "metadata": {
        "id": "xMnQlAnV8fx5",
        "colab_type": "code",
        "colab": {
          "autoexec": {
            "startup": false,
            "wait_interval": 0
          }
        }
      },
      "cell_type": "code",
      "source": [
        "import matplotlib.pyplot as plt"
      ],
      "execution_count": 0,
      "outputs": []
    },
    {
      "metadata": {
        "id": "lTzthDhN8sIO",
        "colab_type": "code",
        "colab": {
          "autoexec": {
            "startup": false,
            "wait_interval": 0
          },
          "base_uri": "https://localhost:8080/",
          "height": 230
        },
        "outputId": "06d023ff-5bf8-4519-9316-f8a64385e1d7",
        "executionInfo": {
          "status": "ok",
          "timestamp": 1528097197953,
          "user_tz": -540,
          "elapsed": 1709,
          "user": {
            "displayName": "도로로롱이",
            "photoUrl": "https://lh3.googleusercontent.com/a/default-user=s128",
            "userId": "100867287331611266719"
          }
        }
      },
      "cell_type": "code",
      "source": [
        "!ls -al"
      ],
      "execution_count": 79,
      "outputs": [
        {
          "output_type": "stream",
          "text": [
            "total 88\r\n",
            "drwxr-xr-x 1 root root  4096 Jun  4 07:01 .\r\n",
            "drwxr-xr-x 1 root root  4096 Jun  4 06:57 ..\r\n",
            "-rw-r--r-- 1 root root 47412 Jun  4 07:15 bitcoin.csv\r\n",
            "drwx------ 4 root root  4096 Jun  4 06:59 .cache\r\n",
            "drwxr-xr-x 3 root root  4096 Jun  4 06:59 .config\r\n",
            "drwxr-xr-x 1 root root  4096 Jun  4 07:01 datalab\r\n",
            "drwxr-xr-x 4 root root  4096 Jun  4 06:57 .forever\r\n",
            "drwxr-xr-x 5 root root  4096 Jun  4 06:59 .ipython\r\n",
            "drwxr-xr-x 2 root root  4096 Jun  4 06:59 .keras\r\n",
            "drwx------ 3 root root  4096 Jun  4 06:57 .local\r\n",
            "-rw------- 1 root root  1024 Jun  4 06:57 .rnd\r\n"
          ],
          "name": "stdout"
        }
      ]
    },
    {
      "metadata": {
        "id": "QX5UZuBh-ZKG",
        "colab_type": "code",
        "colab": {
          "autoexec": {
            "startup": false,
            "wait_interval": 0
          }
        }
      },
      "cell_type": "code",
      "source": [
        "%matplotlib inline"
      ],
      "execution_count": 0,
      "outputs": []
    },
    {
      "metadata": {
        "id": "XOhO4dD6Bd7Z",
        "colab_type": "code",
        "colab": {
          "autoexec": {
            "startup": false,
            "wait_interval": 0
          }
        }
      },
      "cell_type": "code",
      "source": [
        "bitData = pd.read_csv('bitcoin.csv')"
      ],
      "execution_count": 0,
      "outputs": []
    },
    {
      "metadata": {
        "id": "iHAL8pHNB1y9",
        "colab_type": "code",
        "colab": {
          "autoexec": {
            "startup": false,
            "wait_interval": 0
          },
          "base_uri": "https://localhost:8080/",
          "height": 634
        },
        "outputId": "ef155075-90f8-452e-9a77-9ce3074f0ecb",
        "executionInfo": {
          "status": "ok",
          "timestamp": 1528097199758,
          "user_tz": -540,
          "elapsed": 551,
          "user": {
            "displayName": "도로로롱이",
            "photoUrl": "https://lh3.googleusercontent.com/a/default-user=s128",
            "userId": "100867287331611266719"
          }
        }
      },
      "cell_type": "code",
      "source": [
        "bitData.tail(20)"
      ],
      "execution_count": 82,
      "outputs": [
        {
          "output_type": "execute_result",
          "data": {
            "text/html": [
              "<div>\n",
              "<style scoped>\n",
              "    .dataframe tbody tr th:only-of-type {\n",
              "        vertical-align: middle;\n",
              "    }\n",
              "\n",
              "    .dataframe tbody tr th {\n",
              "        vertical-align: top;\n",
              "    }\n",
              "\n",
              "    .dataframe thead th {\n",
              "        text-align: right;\n",
              "    }\n",
              "</style>\n",
              "<table border=\"1\" class=\"dataframe\">\n",
              "  <thead>\n",
              "    <tr style=\"text-align: right;\">\n",
              "      <th></th>\n",
              "      <th>Date</th>\n",
              "      <th>Open</th>\n",
              "      <th>High</th>\n",
              "      <th>Low</th>\n",
              "      <th>Volume</th>\n",
              "      <th>Market Cap</th>\n",
              "      <th>Close</th>\n",
              "      <th>Unnamed: 7</th>\n",
              "      <th>Unnamed: 8</th>\n",
              "    </tr>\n",
              "  </thead>\n",
              "  <tbody>\n",
              "    <tr>\n",
              "      <th>698</th>\n",
              "      <td>2016-07-05</td>\n",
              "      <td>683.21</td>\n",
              "      <td>683.49</td>\n",
              "      <td>665.07</td>\n",
              "      <td>130476000.0</td>\n",
              "      <td>1.074910e+10</td>\n",
              "      <td>670.63</td>\n",
              "      <td>NaN</td>\n",
              "      <td>NaN</td>\n",
              "    </tr>\n",
              "    <tr>\n",
              "      <th>699</th>\n",
              "      <td>2016-07-04</td>\n",
              "      <td>658.80</td>\n",
              "      <td>683.66</td>\n",
              "      <td>650.51</td>\n",
              "      <td>92008400.0</td>\n",
              "      <td>1.036270e+10</td>\n",
              "      <td>683.66</td>\n",
              "      <td>NaN</td>\n",
              "      <td>NaN</td>\n",
              "    </tr>\n",
              "    <tr>\n",
              "      <th>700</th>\n",
              "      <td>2016-07-03</td>\n",
              "      <td>704.97</td>\n",
              "      <td>704.97</td>\n",
              "      <td>649.01</td>\n",
              "      <td>129512000.0</td>\n",
              "      <td>1.108610e+10</td>\n",
              "      <td>658.66</td>\n",
              "      <td>NaN</td>\n",
              "      <td>NaN</td>\n",
              "    </tr>\n",
              "    <tr>\n",
              "      <th>701</th>\n",
              "      <td>2016-07-02</td>\n",
              "      <td>676.73</td>\n",
              "      <td>703.70</td>\n",
              "      <td>676.40</td>\n",
              "      <td>112354000.0</td>\n",
              "      <td>1.063960e+10</td>\n",
              "      <td>703.70</td>\n",
              "      <td>NaN</td>\n",
              "      <td>NaN</td>\n",
              "    </tr>\n",
              "    <tr>\n",
              "      <th>702</th>\n",
              "      <td>2016-07-01</td>\n",
              "      <td>672.52</td>\n",
              "      <td>686.15</td>\n",
              "      <td>669.59</td>\n",
              "      <td>134431000.0</td>\n",
              "      <td>1.057060e+10</td>\n",
              "      <td>676.30</td>\n",
              "      <td>NaN</td>\n",
              "      <td>NaN</td>\n",
              "    </tr>\n",
              "    <tr>\n",
              "      <th>703</th>\n",
              "      <td>NaN</td>\n",
              "      <td>NaN</td>\n",
              "      <td>NaN</td>\n",
              "      <td>NaN</td>\n",
              "      <td>NaN</td>\n",
              "      <td>NaN</td>\n",
              "      <td>NaN</td>\n",
              "      <td>NaN</td>\n",
              "      <td>NaN</td>\n",
              "    </tr>\n",
              "    <tr>\n",
              "      <th>704</th>\n",
              "      <td>NaN</td>\n",
              "      <td>NaN</td>\n",
              "      <td>NaN</td>\n",
              "      <td>NaN</td>\n",
              "      <td>NaN</td>\n",
              "      <td>NaN</td>\n",
              "      <td>NaN</td>\n",
              "      <td>NaN</td>\n",
              "      <td>NaN</td>\n",
              "    </tr>\n",
              "    <tr>\n",
              "      <th>705</th>\n",
              "      <td>NaN</td>\n",
              "      <td>NaN</td>\n",
              "      <td>NaN</td>\n",
              "      <td>NaN</td>\n",
              "      <td>NaN</td>\n",
              "      <td>NaN</td>\n",
              "      <td>NaN</td>\n",
              "      <td>NaN</td>\n",
              "      <td>NaN</td>\n",
              "    </tr>\n",
              "    <tr>\n",
              "      <th>706</th>\n",
              "      <td>NaN</td>\n",
              "      <td>NaN</td>\n",
              "      <td>NaN</td>\n",
              "      <td>NaN</td>\n",
              "      <td>NaN</td>\n",
              "      <td>NaN</td>\n",
              "      <td>NaN</td>\n",
              "      <td>NaN</td>\n",
              "      <td>NaN</td>\n",
              "    </tr>\n",
              "    <tr>\n",
              "      <th>707</th>\n",
              "      <td>NaN</td>\n",
              "      <td>NaN</td>\n",
              "      <td>NaN</td>\n",
              "      <td>NaN</td>\n",
              "      <td>NaN</td>\n",
              "      <td>NaN</td>\n",
              "      <td>NaN</td>\n",
              "      <td>NaN</td>\n",
              "      <td>NaN</td>\n",
              "    </tr>\n",
              "    <tr>\n",
              "      <th>708</th>\n",
              "      <td>NaN</td>\n",
              "      <td>NaN</td>\n",
              "      <td>NaN</td>\n",
              "      <td>NaN</td>\n",
              "      <td>NaN</td>\n",
              "      <td>NaN</td>\n",
              "      <td>NaN</td>\n",
              "      <td>NaN</td>\n",
              "      <td>NaN</td>\n",
              "    </tr>\n",
              "    <tr>\n",
              "      <th>709</th>\n",
              "      <td>NaN</td>\n",
              "      <td>NaN</td>\n",
              "      <td>NaN</td>\n",
              "      <td>NaN</td>\n",
              "      <td>NaN</td>\n",
              "      <td>NaN</td>\n",
              "      <td>NaN</td>\n",
              "      <td>NaN</td>\n",
              "      <td>NaN</td>\n",
              "    </tr>\n",
              "    <tr>\n",
              "      <th>710</th>\n",
              "      <td>NaN</td>\n",
              "      <td>NaN</td>\n",
              "      <td>NaN</td>\n",
              "      <td>NaN</td>\n",
              "      <td>NaN</td>\n",
              "      <td>NaN</td>\n",
              "      <td>NaN</td>\n",
              "      <td>NaN</td>\n",
              "      <td>NaN</td>\n",
              "    </tr>\n",
              "    <tr>\n",
              "      <th>711</th>\n",
              "      <td>NaN</td>\n",
              "      <td>NaN</td>\n",
              "      <td>NaN</td>\n",
              "      <td>NaN</td>\n",
              "      <td>NaN</td>\n",
              "      <td>NaN</td>\n",
              "      <td>NaN</td>\n",
              "      <td>NaN</td>\n",
              "      <td>NaN</td>\n",
              "    </tr>\n",
              "    <tr>\n",
              "      <th>712</th>\n",
              "      <td>NaN</td>\n",
              "      <td>NaN</td>\n",
              "      <td>NaN</td>\n",
              "      <td>NaN</td>\n",
              "      <td>NaN</td>\n",
              "      <td>NaN</td>\n",
              "      <td>NaN</td>\n",
              "      <td>NaN</td>\n",
              "      <td>NaN</td>\n",
              "    </tr>\n",
              "    <tr>\n",
              "      <th>713</th>\n",
              "      <td>NaN</td>\n",
              "      <td>NaN</td>\n",
              "      <td>NaN</td>\n",
              "      <td>NaN</td>\n",
              "      <td>NaN</td>\n",
              "      <td>NaN</td>\n",
              "      <td>NaN</td>\n",
              "      <td>NaN</td>\n",
              "      <td>NaN</td>\n",
              "    </tr>\n",
              "    <tr>\n",
              "      <th>714</th>\n",
              "      <td>NaN</td>\n",
              "      <td>NaN</td>\n",
              "      <td>NaN</td>\n",
              "      <td>NaN</td>\n",
              "      <td>NaN</td>\n",
              "      <td>NaN</td>\n",
              "      <td>NaN</td>\n",
              "      <td>NaN</td>\n",
              "      <td>NaN</td>\n",
              "    </tr>\n",
              "    <tr>\n",
              "      <th>715</th>\n",
              "      <td>NaN</td>\n",
              "      <td>NaN</td>\n",
              "      <td>NaN</td>\n",
              "      <td>NaN</td>\n",
              "      <td>NaN</td>\n",
              "      <td>NaN</td>\n",
              "      <td>NaN</td>\n",
              "      <td>NaN</td>\n",
              "      <td>NaN</td>\n",
              "    </tr>\n",
              "    <tr>\n",
              "      <th>716</th>\n",
              "      <td>NaN</td>\n",
              "      <td>NaN</td>\n",
              "      <td>NaN</td>\n",
              "      <td>NaN</td>\n",
              "      <td>NaN</td>\n",
              "      <td>NaN</td>\n",
              "      <td>NaN</td>\n",
              "      <td>NaN</td>\n",
              "      <td>NaN</td>\n",
              "    </tr>\n",
              "    <tr>\n",
              "      <th>717</th>\n",
              "      <td>NaN</td>\n",
              "      <td>NaN</td>\n",
              "      <td>NaN</td>\n",
              "      <td>NaN</td>\n",
              "      <td>NaN</td>\n",
              "      <td>NaN</td>\n",
              "      <td>NaN</td>\n",
              "      <td>NaN</td>\n",
              "      <td>`</td>\n",
              "    </tr>\n",
              "  </tbody>\n",
              "</table>\n",
              "</div>"
            ],
            "text/plain": [
              "          Date     Open    High     Low       Volume    Market Cap   Close  \\\n",
              "698  2016-07-05  683.21  683.49  665.07  130476000.0  1.074910e+10  670.63   \n",
              "699  2016-07-04  658.80  683.66  650.51   92008400.0  1.036270e+10  683.66   \n",
              "700  2016-07-03  704.97  704.97  649.01  129512000.0  1.108610e+10  658.66   \n",
              "701  2016-07-02  676.73  703.70  676.40  112354000.0  1.063960e+10  703.70   \n",
              "702  2016-07-01  672.52  686.15  669.59  134431000.0  1.057060e+10  676.30   \n",
              "703         NaN     NaN     NaN     NaN          NaN           NaN     NaN   \n",
              "704         NaN     NaN     NaN     NaN          NaN           NaN     NaN   \n",
              "705         NaN     NaN     NaN     NaN          NaN           NaN     NaN   \n",
              "706         NaN     NaN     NaN     NaN          NaN           NaN     NaN   \n",
              "707         NaN     NaN     NaN     NaN          NaN           NaN     NaN   \n",
              "708         NaN     NaN     NaN     NaN          NaN           NaN     NaN   \n",
              "709         NaN     NaN     NaN     NaN          NaN           NaN     NaN   \n",
              "710         NaN     NaN     NaN     NaN          NaN           NaN     NaN   \n",
              "711         NaN     NaN     NaN     NaN          NaN           NaN     NaN   \n",
              "712         NaN     NaN     NaN     NaN          NaN           NaN     NaN   \n",
              "713         NaN     NaN     NaN     NaN          NaN           NaN     NaN   \n",
              "714         NaN     NaN     NaN     NaN          NaN           NaN     NaN   \n",
              "715         NaN     NaN     NaN     NaN          NaN           NaN     NaN   \n",
              "716         NaN     NaN     NaN     NaN          NaN           NaN     NaN   \n",
              "717         NaN     NaN     NaN     NaN          NaN           NaN     NaN   \n",
              "\n",
              "     Unnamed: 7 Unnamed: 8  \n",
              "698         NaN        NaN  \n",
              "699         NaN        NaN  \n",
              "700         NaN        NaN  \n",
              "701         NaN        NaN  \n",
              "702         NaN        NaN  \n",
              "703         NaN        NaN  \n",
              "704         NaN        NaN  \n",
              "705         NaN        NaN  \n",
              "706         NaN        NaN  \n",
              "707         NaN        NaN  \n",
              "708         NaN        NaN  \n",
              "709         NaN        NaN  \n",
              "710         NaN        NaN  \n",
              "711         NaN        NaN  \n",
              "712         NaN        NaN  \n",
              "713         NaN        NaN  \n",
              "714         NaN        NaN  \n",
              "715         NaN        NaN  \n",
              "716         NaN        NaN  \n",
              "717         NaN          `  "
            ]
          },
          "metadata": {
            "tags": []
          },
          "execution_count": 82
        }
      ]
    },
    {
      "metadata": {
        "id": "yV08FuP_FRqc",
        "colab_type": "code",
        "colab": {
          "autoexec": {
            "startup": false,
            "wait_interval": 0
          }
        }
      },
      "cell_type": "code",
      "source": [
        "bitData = bitData.drop(bitData.columns[bitData.columns.str.contains('unnamed',case = False)],axis = 1)"
      ],
      "execution_count": 0,
      "outputs": []
    },
    {
      "metadata": {
        "id": "u2gTi8dkC8NO",
        "colab_type": "code",
        "colab": {
          "autoexec": {
            "startup": false,
            "wait_interval": 0
          },
          "base_uri": "https://localhost:8080/",
          "height": 634
        },
        "outputId": "d1cb66e8-404c-49da-e50c-f14d97e0a6ca",
        "executionInfo": {
          "status": "ok",
          "timestamp": 1528097201753,
          "user_tz": -540,
          "elapsed": 679,
          "user": {
            "displayName": "도로로롱이",
            "photoUrl": "https://lh3.googleusercontent.com/a/default-user=s128",
            "userId": "100867287331611266719"
          }
        }
      },
      "cell_type": "code",
      "source": [
        "bitData.tail(20)"
      ],
      "execution_count": 84,
      "outputs": [
        {
          "output_type": "execute_result",
          "data": {
            "text/html": [
              "<div>\n",
              "<style scoped>\n",
              "    .dataframe tbody tr th:only-of-type {\n",
              "        vertical-align: middle;\n",
              "    }\n",
              "\n",
              "    .dataframe tbody tr th {\n",
              "        vertical-align: top;\n",
              "    }\n",
              "\n",
              "    .dataframe thead th {\n",
              "        text-align: right;\n",
              "    }\n",
              "</style>\n",
              "<table border=\"1\" class=\"dataframe\">\n",
              "  <thead>\n",
              "    <tr style=\"text-align: right;\">\n",
              "      <th></th>\n",
              "      <th>Date</th>\n",
              "      <th>Open</th>\n",
              "      <th>High</th>\n",
              "      <th>Low</th>\n",
              "      <th>Volume</th>\n",
              "      <th>Market Cap</th>\n",
              "      <th>Close</th>\n",
              "    </tr>\n",
              "  </thead>\n",
              "  <tbody>\n",
              "    <tr>\n",
              "      <th>698</th>\n",
              "      <td>2016-07-05</td>\n",
              "      <td>683.21</td>\n",
              "      <td>683.49</td>\n",
              "      <td>665.07</td>\n",
              "      <td>130476000.0</td>\n",
              "      <td>1.074910e+10</td>\n",
              "      <td>670.63</td>\n",
              "    </tr>\n",
              "    <tr>\n",
              "      <th>699</th>\n",
              "      <td>2016-07-04</td>\n",
              "      <td>658.80</td>\n",
              "      <td>683.66</td>\n",
              "      <td>650.51</td>\n",
              "      <td>92008400.0</td>\n",
              "      <td>1.036270e+10</td>\n",
              "      <td>683.66</td>\n",
              "    </tr>\n",
              "    <tr>\n",
              "      <th>700</th>\n",
              "      <td>2016-07-03</td>\n",
              "      <td>704.97</td>\n",
              "      <td>704.97</td>\n",
              "      <td>649.01</td>\n",
              "      <td>129512000.0</td>\n",
              "      <td>1.108610e+10</td>\n",
              "      <td>658.66</td>\n",
              "    </tr>\n",
              "    <tr>\n",
              "      <th>701</th>\n",
              "      <td>2016-07-02</td>\n",
              "      <td>676.73</td>\n",
              "      <td>703.70</td>\n",
              "      <td>676.40</td>\n",
              "      <td>112354000.0</td>\n",
              "      <td>1.063960e+10</td>\n",
              "      <td>703.70</td>\n",
              "    </tr>\n",
              "    <tr>\n",
              "      <th>702</th>\n",
              "      <td>2016-07-01</td>\n",
              "      <td>672.52</td>\n",
              "      <td>686.15</td>\n",
              "      <td>669.59</td>\n",
              "      <td>134431000.0</td>\n",
              "      <td>1.057060e+10</td>\n",
              "      <td>676.30</td>\n",
              "    </tr>\n",
              "    <tr>\n",
              "      <th>703</th>\n",
              "      <td>NaN</td>\n",
              "      <td>NaN</td>\n",
              "      <td>NaN</td>\n",
              "      <td>NaN</td>\n",
              "      <td>NaN</td>\n",
              "      <td>NaN</td>\n",
              "      <td>NaN</td>\n",
              "    </tr>\n",
              "    <tr>\n",
              "      <th>704</th>\n",
              "      <td>NaN</td>\n",
              "      <td>NaN</td>\n",
              "      <td>NaN</td>\n",
              "      <td>NaN</td>\n",
              "      <td>NaN</td>\n",
              "      <td>NaN</td>\n",
              "      <td>NaN</td>\n",
              "    </tr>\n",
              "    <tr>\n",
              "      <th>705</th>\n",
              "      <td>NaN</td>\n",
              "      <td>NaN</td>\n",
              "      <td>NaN</td>\n",
              "      <td>NaN</td>\n",
              "      <td>NaN</td>\n",
              "      <td>NaN</td>\n",
              "      <td>NaN</td>\n",
              "    </tr>\n",
              "    <tr>\n",
              "      <th>706</th>\n",
              "      <td>NaN</td>\n",
              "      <td>NaN</td>\n",
              "      <td>NaN</td>\n",
              "      <td>NaN</td>\n",
              "      <td>NaN</td>\n",
              "      <td>NaN</td>\n",
              "      <td>NaN</td>\n",
              "    </tr>\n",
              "    <tr>\n",
              "      <th>707</th>\n",
              "      <td>NaN</td>\n",
              "      <td>NaN</td>\n",
              "      <td>NaN</td>\n",
              "      <td>NaN</td>\n",
              "      <td>NaN</td>\n",
              "      <td>NaN</td>\n",
              "      <td>NaN</td>\n",
              "    </tr>\n",
              "    <tr>\n",
              "      <th>708</th>\n",
              "      <td>NaN</td>\n",
              "      <td>NaN</td>\n",
              "      <td>NaN</td>\n",
              "      <td>NaN</td>\n",
              "      <td>NaN</td>\n",
              "      <td>NaN</td>\n",
              "      <td>NaN</td>\n",
              "    </tr>\n",
              "    <tr>\n",
              "      <th>709</th>\n",
              "      <td>NaN</td>\n",
              "      <td>NaN</td>\n",
              "      <td>NaN</td>\n",
              "      <td>NaN</td>\n",
              "      <td>NaN</td>\n",
              "      <td>NaN</td>\n",
              "      <td>NaN</td>\n",
              "    </tr>\n",
              "    <tr>\n",
              "      <th>710</th>\n",
              "      <td>NaN</td>\n",
              "      <td>NaN</td>\n",
              "      <td>NaN</td>\n",
              "      <td>NaN</td>\n",
              "      <td>NaN</td>\n",
              "      <td>NaN</td>\n",
              "      <td>NaN</td>\n",
              "    </tr>\n",
              "    <tr>\n",
              "      <th>711</th>\n",
              "      <td>NaN</td>\n",
              "      <td>NaN</td>\n",
              "      <td>NaN</td>\n",
              "      <td>NaN</td>\n",
              "      <td>NaN</td>\n",
              "      <td>NaN</td>\n",
              "      <td>NaN</td>\n",
              "    </tr>\n",
              "    <tr>\n",
              "      <th>712</th>\n",
              "      <td>NaN</td>\n",
              "      <td>NaN</td>\n",
              "      <td>NaN</td>\n",
              "      <td>NaN</td>\n",
              "      <td>NaN</td>\n",
              "      <td>NaN</td>\n",
              "      <td>NaN</td>\n",
              "    </tr>\n",
              "    <tr>\n",
              "      <th>713</th>\n",
              "      <td>NaN</td>\n",
              "      <td>NaN</td>\n",
              "      <td>NaN</td>\n",
              "      <td>NaN</td>\n",
              "      <td>NaN</td>\n",
              "      <td>NaN</td>\n",
              "      <td>NaN</td>\n",
              "    </tr>\n",
              "    <tr>\n",
              "      <th>714</th>\n",
              "      <td>NaN</td>\n",
              "      <td>NaN</td>\n",
              "      <td>NaN</td>\n",
              "      <td>NaN</td>\n",
              "      <td>NaN</td>\n",
              "      <td>NaN</td>\n",
              "      <td>NaN</td>\n",
              "    </tr>\n",
              "    <tr>\n",
              "      <th>715</th>\n",
              "      <td>NaN</td>\n",
              "      <td>NaN</td>\n",
              "      <td>NaN</td>\n",
              "      <td>NaN</td>\n",
              "      <td>NaN</td>\n",
              "      <td>NaN</td>\n",
              "      <td>NaN</td>\n",
              "    </tr>\n",
              "    <tr>\n",
              "      <th>716</th>\n",
              "      <td>NaN</td>\n",
              "      <td>NaN</td>\n",
              "      <td>NaN</td>\n",
              "      <td>NaN</td>\n",
              "      <td>NaN</td>\n",
              "      <td>NaN</td>\n",
              "      <td>NaN</td>\n",
              "    </tr>\n",
              "    <tr>\n",
              "      <th>717</th>\n",
              "      <td>NaN</td>\n",
              "      <td>NaN</td>\n",
              "      <td>NaN</td>\n",
              "      <td>NaN</td>\n",
              "      <td>NaN</td>\n",
              "      <td>NaN</td>\n",
              "      <td>NaN</td>\n",
              "    </tr>\n",
              "  </tbody>\n",
              "</table>\n",
              "</div>"
            ],
            "text/plain": [
              "          Date     Open    High     Low       Volume    Market Cap   Close\n",
              "698  2016-07-05  683.21  683.49  665.07  130476000.0  1.074910e+10  670.63\n",
              "699  2016-07-04  658.80  683.66  650.51   92008400.0  1.036270e+10  683.66\n",
              "700  2016-07-03  704.97  704.97  649.01  129512000.0  1.108610e+10  658.66\n",
              "701  2016-07-02  676.73  703.70  676.40  112354000.0  1.063960e+10  703.70\n",
              "702  2016-07-01  672.52  686.15  669.59  134431000.0  1.057060e+10  676.30\n",
              "703         NaN     NaN     NaN     NaN          NaN           NaN     NaN\n",
              "704         NaN     NaN     NaN     NaN          NaN           NaN     NaN\n",
              "705         NaN     NaN     NaN     NaN          NaN           NaN     NaN\n",
              "706         NaN     NaN     NaN     NaN          NaN           NaN     NaN\n",
              "707         NaN     NaN     NaN     NaN          NaN           NaN     NaN\n",
              "708         NaN     NaN     NaN     NaN          NaN           NaN     NaN\n",
              "709         NaN     NaN     NaN     NaN          NaN           NaN     NaN\n",
              "710         NaN     NaN     NaN     NaN          NaN           NaN     NaN\n",
              "711         NaN     NaN     NaN     NaN          NaN           NaN     NaN\n",
              "712         NaN     NaN     NaN     NaN          NaN           NaN     NaN\n",
              "713         NaN     NaN     NaN     NaN          NaN           NaN     NaN\n",
              "714         NaN     NaN     NaN     NaN          NaN           NaN     NaN\n",
              "715         NaN     NaN     NaN     NaN          NaN           NaN     NaN\n",
              "716         NaN     NaN     NaN     NaN          NaN           NaN     NaN\n",
              "717         NaN     NaN     NaN     NaN          NaN           NaN     NaN"
            ]
          },
          "metadata": {
            "tags": []
          },
          "execution_count": 84
        }
      ]
    },
    {
      "metadata": {
        "id": "Zy8z-2WwmpkX",
        "colab_type": "code",
        "colab": {
          "autoexec": {
            "startup": false,
            "wait_interval": 0
          }
        }
      },
      "cell_type": "code",
      "source": [
        "for i in range(15):\n",
        "  bitData = bitData.drop( 703 + i, 0)"
      ],
      "execution_count": 0,
      "outputs": []
    },
    {
      "metadata": {
        "id": "aFz47apYmxoz",
        "colab_type": "code",
        "colab": {
          "autoexec": {
            "startup": false,
            "wait_interval": 0
          },
          "base_uri": "https://localhost:8080/",
          "height": 634
        },
        "outputId": "6857feac-9dbc-4500-bfc1-68c2b9e2e136",
        "executionInfo": {
          "status": "ok",
          "timestamp": 1528097203381,
          "user_tz": -540,
          "elapsed": 508,
          "user": {
            "displayName": "도로로롱이",
            "photoUrl": "https://lh3.googleusercontent.com/a/default-user=s128",
            "userId": "100867287331611266719"
          }
        }
      },
      "cell_type": "code",
      "source": [
        "bitData.tail(20)"
      ],
      "execution_count": 86,
      "outputs": [
        {
          "output_type": "execute_result",
          "data": {
            "text/html": [
              "<div>\n",
              "<style scoped>\n",
              "    .dataframe tbody tr th:only-of-type {\n",
              "        vertical-align: middle;\n",
              "    }\n",
              "\n",
              "    .dataframe tbody tr th {\n",
              "        vertical-align: top;\n",
              "    }\n",
              "\n",
              "    .dataframe thead th {\n",
              "        text-align: right;\n",
              "    }\n",
              "</style>\n",
              "<table border=\"1\" class=\"dataframe\">\n",
              "  <thead>\n",
              "    <tr style=\"text-align: right;\">\n",
              "      <th></th>\n",
              "      <th>Date</th>\n",
              "      <th>Open</th>\n",
              "      <th>High</th>\n",
              "      <th>Low</th>\n",
              "      <th>Volume</th>\n",
              "      <th>Market Cap</th>\n",
              "      <th>Close</th>\n",
              "    </tr>\n",
              "  </thead>\n",
              "  <tbody>\n",
              "    <tr>\n",
              "      <th>683</th>\n",
              "      <td>2016-07-20</td>\n",
              "      <td>672.81</td>\n",
              "      <td>672.93</td>\n",
              "      <td>663.36</td>\n",
              "      <td>94636400.0</td>\n",
              "      <td>1.060860e+10</td>\n",
              "      <td>665.69</td>\n",
              "    </tr>\n",
              "    <tr>\n",
              "      <th>684</th>\n",
              "      <td>2016-07-19</td>\n",
              "      <td>672.74</td>\n",
              "      <td>673.28</td>\n",
              "      <td>667.63</td>\n",
              "      <td>61203300.0</td>\n",
              "      <td>1.060650e+10</td>\n",
              "      <td>672.86</td>\n",
              "    </tr>\n",
              "    <tr>\n",
              "      <th>685</th>\n",
              "      <td>2016-07-18</td>\n",
              "      <td>679.81</td>\n",
              "      <td>681.56</td>\n",
              "      <td>668.63</td>\n",
              "      <td>69465000.0</td>\n",
              "      <td>1.071680e+10</td>\n",
              "      <td>673.11</td>\n",
              "    </tr>\n",
              "    <tr>\n",
              "      <th>686</th>\n",
              "      <td>2016-07-17</td>\n",
              "      <td>661.99</td>\n",
              "      <td>682.37</td>\n",
              "      <td>661.99</td>\n",
              "      <td>74407900.0</td>\n",
              "      <td>1.043470e+10</td>\n",
              "      <td>679.46</td>\n",
              "    </tr>\n",
              "    <tr>\n",
              "      <th>687</th>\n",
              "      <td>2016-07-16</td>\n",
              "      <td>663.78</td>\n",
              "      <td>666.46</td>\n",
              "      <td>659.33</td>\n",
              "      <td>50330200.0</td>\n",
              "      <td>1.046170e+10</td>\n",
              "      <td>660.77</td>\n",
              "    </tr>\n",
              "    <tr>\n",
              "      <th>688</th>\n",
              "      <td>2016-07-15</td>\n",
              "      <td>659.17</td>\n",
              "      <td>667.08</td>\n",
              "      <td>659.04</td>\n",
              "      <td>81673100.0</td>\n",
              "      <td>1.038790e+10</td>\n",
              "      <td>663.26</td>\n",
              "    </tr>\n",
              "    <tr>\n",
              "      <th>689</th>\n",
              "      <td>2016-07-14</td>\n",
              "      <td>652.92</td>\n",
              "      <td>662.90</td>\n",
              "      <td>652.92</td>\n",
              "      <td>98511400.0</td>\n",
              "      <td>1.028840e+10</td>\n",
              "      <td>658.08</td>\n",
              "    </tr>\n",
              "    <tr>\n",
              "      <th>690</th>\n",
              "      <td>2016-07-13</td>\n",
              "      <td>664.80</td>\n",
              "      <td>668.70</td>\n",
              "      <td>654.47</td>\n",
              "      <td>131449000.0</td>\n",
              "      <td>1.047450e+10</td>\n",
              "      <td>654.47</td>\n",
              "    </tr>\n",
              "    <tr>\n",
              "      <th>691</th>\n",
              "      <td>2016-07-12</td>\n",
              "      <td>648.28</td>\n",
              "      <td>675.26</td>\n",
              "      <td>646.78</td>\n",
              "      <td>138173000.0</td>\n",
              "      <td>1.021310e+10</td>\n",
              "      <td>664.55</td>\n",
              "    </tr>\n",
              "    <tr>\n",
              "      <th>692</th>\n",
              "      <td>2016-07-11</td>\n",
              "      <td>648.48</td>\n",
              "      <td>659.63</td>\n",
              "      <td>644.98</td>\n",
              "      <td>107910000.0</td>\n",
              "      <td>1.021520e+10</td>\n",
              "      <td>647.66</td>\n",
              "    </tr>\n",
              "    <tr>\n",
              "      <th>693</th>\n",
              "      <td>2016-07-10</td>\n",
              "      <td>650.60</td>\n",
              "      <td>652.29</td>\n",
              "      <td>641.26</td>\n",
              "      <td>102532000.0</td>\n",
              "      <td>1.024730e+10</td>\n",
              "      <td>649.36</td>\n",
              "    </tr>\n",
              "    <tr>\n",
              "      <th>694</th>\n",
              "      <td>2016-07-09</td>\n",
              "      <td>666.38</td>\n",
              "      <td>666.38</td>\n",
              "      <td>633.40</td>\n",
              "      <td>180536000.0</td>\n",
              "      <td>1.049380e+10</td>\n",
              "      <td>650.96</td>\n",
              "    </tr>\n",
              "    <tr>\n",
              "      <th>695</th>\n",
              "      <td>2016-07-08</td>\n",
              "      <td>640.69</td>\n",
              "      <td>666.71</td>\n",
              "      <td>636.47</td>\n",
              "      <td>141970000.0</td>\n",
              "      <td>1.008690e+10</td>\n",
              "      <td>666.52</td>\n",
              "    </tr>\n",
              "    <tr>\n",
              "      <th>696</th>\n",
              "      <td>2016-07-07</td>\n",
              "      <td>678.09</td>\n",
              "      <td>682.43</td>\n",
              "      <td>611.83</td>\n",
              "      <td>258091000.0</td>\n",
              "      <td>1.067340e+10</td>\n",
              "      <td>640.56</td>\n",
              "    </tr>\n",
              "    <tr>\n",
              "      <th>697</th>\n",
              "      <td>2016-07-06</td>\n",
              "      <td>670.42</td>\n",
              "      <td>681.90</td>\n",
              "      <td>670.42</td>\n",
              "      <td>134961000.0</td>\n",
              "      <td>1.055030e+10</td>\n",
              "      <td>677.33</td>\n",
              "    </tr>\n",
              "    <tr>\n",
              "      <th>698</th>\n",
              "      <td>2016-07-05</td>\n",
              "      <td>683.21</td>\n",
              "      <td>683.49</td>\n",
              "      <td>665.07</td>\n",
              "      <td>130476000.0</td>\n",
              "      <td>1.074910e+10</td>\n",
              "      <td>670.63</td>\n",
              "    </tr>\n",
              "    <tr>\n",
              "      <th>699</th>\n",
              "      <td>2016-07-04</td>\n",
              "      <td>658.80</td>\n",
              "      <td>683.66</td>\n",
              "      <td>650.51</td>\n",
              "      <td>92008400.0</td>\n",
              "      <td>1.036270e+10</td>\n",
              "      <td>683.66</td>\n",
              "    </tr>\n",
              "    <tr>\n",
              "      <th>700</th>\n",
              "      <td>2016-07-03</td>\n",
              "      <td>704.97</td>\n",
              "      <td>704.97</td>\n",
              "      <td>649.01</td>\n",
              "      <td>129512000.0</td>\n",
              "      <td>1.108610e+10</td>\n",
              "      <td>658.66</td>\n",
              "    </tr>\n",
              "    <tr>\n",
              "      <th>701</th>\n",
              "      <td>2016-07-02</td>\n",
              "      <td>676.73</td>\n",
              "      <td>703.70</td>\n",
              "      <td>676.40</td>\n",
              "      <td>112354000.0</td>\n",
              "      <td>1.063960e+10</td>\n",
              "      <td>703.70</td>\n",
              "    </tr>\n",
              "    <tr>\n",
              "      <th>702</th>\n",
              "      <td>2016-07-01</td>\n",
              "      <td>672.52</td>\n",
              "      <td>686.15</td>\n",
              "      <td>669.59</td>\n",
              "      <td>134431000.0</td>\n",
              "      <td>1.057060e+10</td>\n",
              "      <td>676.30</td>\n",
              "    </tr>\n",
              "  </tbody>\n",
              "</table>\n",
              "</div>"
            ],
            "text/plain": [
              "          Date     Open    High     Low       Volume    Market Cap   Close\n",
              "683  2016-07-20  672.81  672.93  663.36   94636400.0  1.060860e+10  665.69\n",
              "684  2016-07-19  672.74  673.28  667.63   61203300.0  1.060650e+10  672.86\n",
              "685  2016-07-18  679.81  681.56  668.63   69465000.0  1.071680e+10  673.11\n",
              "686  2016-07-17  661.99  682.37  661.99   74407900.0  1.043470e+10  679.46\n",
              "687  2016-07-16  663.78  666.46  659.33   50330200.0  1.046170e+10  660.77\n",
              "688  2016-07-15  659.17  667.08  659.04   81673100.0  1.038790e+10  663.26\n",
              "689  2016-07-14  652.92  662.90  652.92   98511400.0  1.028840e+10  658.08\n",
              "690  2016-07-13  664.80  668.70  654.47  131449000.0  1.047450e+10  654.47\n",
              "691  2016-07-12  648.28  675.26  646.78  138173000.0  1.021310e+10  664.55\n",
              "692  2016-07-11  648.48  659.63  644.98  107910000.0  1.021520e+10  647.66\n",
              "693  2016-07-10  650.60  652.29  641.26  102532000.0  1.024730e+10  649.36\n",
              "694  2016-07-09  666.38  666.38  633.40  180536000.0  1.049380e+10  650.96\n",
              "695  2016-07-08  640.69  666.71  636.47  141970000.0  1.008690e+10  666.52\n",
              "696  2016-07-07  678.09  682.43  611.83  258091000.0  1.067340e+10  640.56\n",
              "697  2016-07-06  670.42  681.90  670.42  134961000.0  1.055030e+10  677.33\n",
              "698  2016-07-05  683.21  683.49  665.07  130476000.0  1.074910e+10  670.63\n",
              "699  2016-07-04  658.80  683.66  650.51   92008400.0  1.036270e+10  683.66\n",
              "700  2016-07-03  704.97  704.97  649.01  129512000.0  1.108610e+10  658.66\n",
              "701  2016-07-02  676.73  703.70  676.40  112354000.0  1.063960e+10  703.70\n",
              "702  2016-07-01  672.52  686.15  669.59  134431000.0  1.057060e+10  676.30"
            ]
          },
          "metadata": {
            "tags": []
          },
          "execution_count": 86
        }
      ]
    },
    {
      "metadata": {
        "id": "VEsAO85II4kh",
        "colab_type": "code",
        "colab": {
          "autoexec": {
            "startup": false,
            "wait_interval": 0
          },
          "base_uri": "https://localhost:8080/",
          "height": 340
        },
        "outputId": "eca9f38c-882a-44a7-d631-c6d25d093aba",
        "executionInfo": {
          "status": "ok",
          "timestamp": 1528097204048,
          "user_tz": -540,
          "elapsed": 519,
          "user": {
            "displayName": "도로로롱이",
            "photoUrl": "https://lh3.googleusercontent.com/a/default-user=s128",
            "userId": "100867287331611266719"
          }
        }
      },
      "cell_type": "code",
      "source": [
        "bitData.shape\n",
        "bitData = bitData[::-1]\n",
        "bitData.tail(10)"
      ],
      "execution_count": 87,
      "outputs": [
        {
          "output_type": "execute_result",
          "data": {
            "text/html": [
              "<div>\n",
              "<style scoped>\n",
              "    .dataframe tbody tr th:only-of-type {\n",
              "        vertical-align: middle;\n",
              "    }\n",
              "\n",
              "    .dataframe tbody tr th {\n",
              "        vertical-align: top;\n",
              "    }\n",
              "\n",
              "    .dataframe thead th {\n",
              "        text-align: right;\n",
              "    }\n",
              "</style>\n",
              "<table border=\"1\" class=\"dataframe\">\n",
              "  <thead>\n",
              "    <tr style=\"text-align: right;\">\n",
              "      <th></th>\n",
              "      <th>Date</th>\n",
              "      <th>Open</th>\n",
              "      <th>High</th>\n",
              "      <th>Low</th>\n",
              "      <th>Volume</th>\n",
              "      <th>Market Cap</th>\n",
              "      <th>Close</th>\n",
              "    </tr>\n",
              "  </thead>\n",
              "  <tbody>\n",
              "    <tr>\n",
              "      <th>9</th>\n",
              "      <td>2018-05-25</td>\n",
              "      <td>7592.30</td>\n",
              "      <td>7659.14</td>\n",
              "      <td>7392.65</td>\n",
              "      <td>4.867830e+09</td>\n",
              "      <td>1.294700e+11</td>\n",
              "      <td>7480.14</td>\n",
              "    </tr>\n",
              "    <tr>\n",
              "      <th>8</th>\n",
              "      <td>2018-05-26</td>\n",
              "      <td>7486.48</td>\n",
              "      <td>7595.16</td>\n",
              "      <td>7349.12</td>\n",
              "      <td>4.051540e+09</td>\n",
              "      <td>1.276820e+11</td>\n",
              "      <td>7355.88</td>\n",
              "    </tr>\n",
              "    <tr>\n",
              "      <th>7</th>\n",
              "      <td>2018-05-27</td>\n",
              "      <td>7362.08</td>\n",
              "      <td>7381.74</td>\n",
              "      <td>7270.96</td>\n",
              "      <td>4.056520e+09</td>\n",
              "      <td>1.255750e+11</td>\n",
              "      <td>7368.22</td>\n",
              "    </tr>\n",
              "    <tr>\n",
              "      <th>6</th>\n",
              "      <td>2018-05-28</td>\n",
              "      <td>7371.31</td>\n",
              "      <td>7419.05</td>\n",
              "      <td>7100.89</td>\n",
              "      <td>5.040600e+09</td>\n",
              "      <td>1.257480e+11</td>\n",
              "      <td>7135.99</td>\n",
              "    </tr>\n",
              "    <tr>\n",
              "      <th>5</th>\n",
              "      <td>2018-05-29</td>\n",
              "      <td>7129.46</td>\n",
              "      <td>7526.42</td>\n",
              "      <td>7090.68</td>\n",
              "      <td>5.662660e+09</td>\n",
              "      <td>1.216360e+11</td>\n",
              "      <td>7472.59</td>\n",
              "    </tr>\n",
              "    <tr>\n",
              "      <th>4</th>\n",
              "      <td>2018-05-30</td>\n",
              "      <td>7469.73</td>\n",
              "      <td>7573.77</td>\n",
              "      <td>7313.60</td>\n",
              "      <td>4.922540e+09</td>\n",
              "      <td>1.274540e+11</td>\n",
              "      <td>7406.52</td>\n",
              "    </tr>\n",
              "    <tr>\n",
              "      <th>3</th>\n",
              "      <td>2018-05-31</td>\n",
              "      <td>7406.15</td>\n",
              "      <td>7608.90</td>\n",
              "      <td>7361.13</td>\n",
              "      <td>5.127130e+09</td>\n",
              "      <td>1.263860e+11</td>\n",
              "      <td>7494.17</td>\n",
              "    </tr>\n",
              "    <tr>\n",
              "      <th>2</th>\n",
              "      <td>2018-06-01</td>\n",
              "      <td>7500.70</td>\n",
              "      <td>7604.73</td>\n",
              "      <td>7407.34</td>\n",
              "      <td>4.921460e+09</td>\n",
              "      <td>1.280140e+11</td>\n",
              "      <td>7541.45</td>\n",
              "    </tr>\n",
              "    <tr>\n",
              "      <th>1</th>\n",
              "      <td>2018-06-02</td>\n",
              "      <td>7536.72</td>\n",
              "      <td>7695.83</td>\n",
              "      <td>7497.26</td>\n",
              "      <td>4.939300e+09</td>\n",
              "      <td>1.286450e+11</td>\n",
              "      <td>7643.45</td>\n",
              "    </tr>\n",
              "    <tr>\n",
              "      <th>0</th>\n",
              "      <td>2018-06-03</td>\n",
              "      <td>7632.09</td>\n",
              "      <td>7754.89</td>\n",
              "      <td>7613.04</td>\n",
              "      <td>4.851760e+09</td>\n",
              "      <td>1.302880e+11</td>\n",
              "      <td>7720.25</td>\n",
              "    </tr>\n",
              "  </tbody>\n",
              "</table>\n",
              "</div>"
            ],
            "text/plain": [
              "        Date      Open     High      Low        Volume    Market Cap    Close\n",
              "9  2018-05-25  7592.30  7659.14  7392.65  4.867830e+09  1.294700e+11  7480.14\n",
              "8  2018-05-26  7486.48  7595.16  7349.12  4.051540e+09  1.276820e+11  7355.88\n",
              "7  2018-05-27  7362.08  7381.74  7270.96  4.056520e+09  1.255750e+11  7368.22\n",
              "6  2018-05-28  7371.31  7419.05  7100.89  5.040600e+09  1.257480e+11  7135.99\n",
              "5  2018-05-29  7129.46  7526.42  7090.68  5.662660e+09  1.216360e+11  7472.59\n",
              "4  2018-05-30  7469.73  7573.77  7313.60  4.922540e+09  1.274540e+11  7406.52\n",
              "3  2018-05-31  7406.15  7608.90  7361.13  5.127130e+09  1.263860e+11  7494.17\n",
              "2  2018-06-01  7500.70  7604.73  7407.34  4.921460e+09  1.280140e+11  7541.45\n",
              "1  2018-06-02  7536.72  7695.83  7497.26  4.939300e+09  1.286450e+11  7643.45\n",
              "0  2018-06-03  7632.09  7754.89  7613.04  4.851760e+09  1.302880e+11  7720.25"
            ]
          },
          "metadata": {
            "tags": []
          },
          "execution_count": 87
        }
      ]
    },
    {
      "metadata": {
        "id": "_7aeCh5RsCY_",
        "colab_type": "code",
        "colab": {
          "autoexec": {
            "startup": false,
            "wait_interval": 0
          }
        }
      },
      "cell_type": "code",
      "source": [
        ""
      ],
      "execution_count": 0,
      "outputs": []
    },
    {
      "metadata": {
        "id": "pFbc7YfsKcuj",
        "colab_type": "code",
        "colab": {
          "autoexec": {
            "startup": false,
            "wait_interval": 0
          }
        }
      },
      "cell_type": "code",
      "source": [
        "data_to_use = bitData['Close'].values  # close값을 예측하기위해 분리"
      ],
      "execution_count": 0,
      "outputs": []
    },
    {
      "metadata": {
        "id": "iHhCMo-VnHLA",
        "colab_type": "code",
        "colab": {
          "autoexec": {
            "startup": false,
            "wait_interval": 0
          },
          "base_uri": "https://localhost:8080/",
          "height": 35
        },
        "outputId": "b6c80eb3-8858-400c-bb56-6b8fc2d8bb86",
        "executionInfo": {
          "status": "ok",
          "timestamp": 1528097206076,
          "user_tz": -540,
          "elapsed": 548,
          "user": {
            "displayName": "도로로롱이",
            "photoUrl": "https://lh3.googleusercontent.com/a/default-user=s128",
            "userId": "100867287331611266719"
          }
        }
      },
      "cell_type": "code",
      "source": [
        "print('Total number of days in the dataset: {}'.format(len(data_to_use)))  # 총 703개의 데이터보유"
      ],
      "execution_count": 89,
      "outputs": [
        {
          "output_type": "stream",
          "text": [
            "Total number of days in the dataset: 703\n"
          ],
          "name": "stdout"
        }
      ]
    },
    {
      "metadata": {
        "id": "ZW8QEcQXnMur",
        "colab_type": "code",
        "colab": {
          "autoexec": {
            "startup": false,
            "wait_interval": 0
          }
        }
      },
      "cell_type": "code",
      "source": [
        "scaler = StandardScaler()"
      ],
      "execution_count": 0,
      "outputs": []
    },
    {
      "metadata": {
        "id": "A0YCJS4knaTp",
        "colab_type": "code",
        "colab": {
          "autoexec": {
            "startup": false,
            "wait_interval": 0
          }
        }
      },
      "cell_type": "code",
      "source": [
        "scaled_dataset = scaler.fit_transform(data_to_use.reshape(-1, 1))"
      ],
      "execution_count": 0,
      "outputs": []
    },
    {
      "metadata": {
        "id": "r0J-TB2YqKVw",
        "colab_type": "code",
        "colab": {
          "autoexec": {
            "startup": false,
            "wait_interval": 0
          },
          "base_uri": "https://localhost:8080/",
          "height": 457
        },
        "outputId": "a0a34cde-f061-4539-e679-ca8f7e029041",
        "executionInfo": {
          "status": "ok",
          "timestamp": 1528097208047,
          "user_tz": -540,
          "elapsed": 630,
          "user": {
            "displayName": "도로로롱이",
            "photoUrl": "https://lh3.googleusercontent.com/a/default-user=s128",
            "userId": "100867287331611266719"
          }
        }
      },
      "cell_type": "code",
      "source": [
        "plt.figure(figsize=(12,7), frameon=False, facecolor='brown', edgecolor='blue')\n",
        "plt.title('bitCoin stocks from 2016-07-01 to 2018-06-03')\n",
        "plt.xlabel('Days')\n",
        "plt.ylabel('Scaled value of stocks')\n",
        "plt.plot(scaled_dataset, label='Stocks data')\n",
        "plt.legend()\n",
        "plt.show()"
      ],
      "execution_count": 92,
      "outputs": [
        {
          "output_type": "display_data",
          "data": {
            "image/png": "[encoded data removed]",
            "text/plain": [
              "<matplotlib.figure.Figure at 0x7fa368cb6860>"
            ]
          },
          "metadata": {
            "tags": []
          }
        }
      ]
    },
    {
      "metadata": {
        "id": "xA1JAkznndk7",
        "colab_type": "code",
        "colab": {
          "autoexec": {
            "startup": false,
            "wait_interval": 0
          }
        }
      },
      "cell_type": "code",
      "source": [
        "def window_data(data, window_size):\n",
        "    X = []\n",
        "    y = []\n",
        "    \n",
        "    i = 0\n",
        "    while (i + window_size) <= len(data) - 1:\n",
        "        X.append(data[i:i+window_size])\n",
        "        y.append(data[i+window_size])\n",
        "        \n",
        "        i += 1\n",
        "    assert len(X) ==  len(y)\n",
        "    return X, y"
      ],
      "execution_count": 0,
      "outputs": []
    },
    {
      "metadata": {
        "id": "AsCLr9Qrs0Iw",
        "colab_type": "code",
        "colab": {
          "autoexec": {
            "startup": false,
            "wait_interval": 0
          }
        }
      },
      "cell_type": "code",
      "source": [
        "X, y = window_data(scaled_dataset, 7)"
      ],
      "execution_count": 0,
      "outputs": []
    },
    {
      "metadata": {
        "id": "sKp6pvLts9hC",
        "colab_type": "code",
        "colab": {
          "autoexec": {
            "startup": false,
            "wait_interval": 0
          }
        }
      },
      "cell_type": "code",
      "source": [
        "X_train  = np.array(X[:700])\n",
        "y_train = np.array(y[:700])"
      ],
      "execution_count": 0,
      "outputs": []
    },
    {
      "metadata": {
        "id": "C3RRRsYG28HE",
        "colab_type": "code",
        "colab": {
          "autoexec": {
            "startup": false,
            "wait_interval": 0
          }
        }
      },
      "cell_type": "code",
      "source": [
        "train_size = int(len(y_train) * 0.7)\n",
        "test_size = len(y_train) - train_size\n",
        "\n",
        "trainX, testX = np.array(X_train[0:train_size]), np.array(\n",
        "    X_train[train_size:len(X_train)])\n",
        "trainY, testY = np.array(y_train[0:train_size]), np.array(\n",
        "    y_train[train_size:len(y_train)])"
      ],
      "execution_count": 0,
      "outputs": []
    },
    {
      "metadata": {
        "id": "edD3ieA9tE4I",
        "colab_type": "code",
        "colab": {
          "autoexec": {
            "startup": false,
            "wait_interval": 0
          },
          "base_uri": "https://localhost:8080/",
          "height": 88
        },
        "outputId": "52f357d1-8146-4d46-c158-a18453c51cf1",
        "executionInfo": {
          "status": "ok",
          "timestamp": 1528100347768,
          "user_tz": -540,
          "elapsed": 558,
          "user": {
            "displayName": "도로로롱이",
            "photoUrl": "https://lh3.googleusercontent.com/a/default-user=s128",
            "userId": "100867287331611266719"
          }
        }
      },
      "cell_type": "code",
      "source": [
        "print(\"X_train size: {}\".format(trainX.shape))\n",
        "print(\"y_train size: {}\".format(trainY.shape))\n",
        "print(\"X_test size: {}\".format(testX.shape))\n",
        "print(\"y_test size: {}\".format(testY.shape))"
      ],
      "execution_count": 120,
      "outputs": [
        {
          "output_type": "stream",
          "text": [
            "X_train size: (487, 7, 1)\n",
            "y_train size: (487, 1)\n",
            "X_test size: (209, 7, 1)\n",
            "y_test size: (209, 1)\n"
          ],
          "name": "stdout"
        }
      ]
    },
    {
      "metadata": {
        "id": "PL7mmeE60UGi",
        "colab_type": "code",
        "colab": {
          "autoexec": {
            "startup": false,
            "wait_interval": 0
          }
        }
      },
      "cell_type": "code",
      "source": [
        "inputs = tf.placeholder(tf.float32, [batch_size, window_size, 1])\n",
        "targets = tf.placeholder(tf.float32, [batch_size, 1])"
      ],
      "execution_count": 0,
      "outputs": []
    },
    {
      "metadata": {
        "id": "G2lyOKX2wYik",
        "colab_type": "code",
        "colab": {
          "autoexec": {
            "startup": false,
            "wait_interval": 0
          }
        }
      },
      "cell_type": "code",
      "source": [
        "epochs = 500\n",
        "batch_size = 7"
      ],
      "execution_count": 0,
      "outputs": []
    },
    {
      "metadata": {
        "id": "IFUBIuGF4ZHC",
        "colab_type": "code",
        "colab": {
          "autoexec": {
            "startup": false,
            "wait_interval": 0
          }
        }
      },
      "cell_type": "code",
      "source": [
        "def LSTM_cell(hidden_layer_size, batch_size,number_of_layers, dropout=True, dropout_rate=0.8):\n",
        "    \n",
        "    layer = tf.contrib.rnn.BasicLSTMCell(hidden_layer_size)\n",
        "    \n",
        "    if dropout:\n",
        "        layer = tf.contrib.rnn.DropoutWrapper(layer, output_keep_prob=dropout_rate)\n",
        "        \n",
        "    cell = tf.contrib.rnn.MultiRNNCell([layer]*number_of_layers)\n",
        "    \n",
        "    init_state = cell.zero_state(batch_size, tf.float32)\n",
        "    \n",
        "    return cell, init_state"
      ],
      "execution_count": 0,
      "outputs": []
    },
    {
      "metadata": {
        "id": "vUAUBT8n4pAE",
        "colab_type": "code",
        "colab": {
          "autoexec": {
            "startup": false,
            "wait_interval": 0
          }
        }
      },
      "cell_type": "code",
      "source": [
        "def output_layer(lstm_output, in_size, out_size):\n",
        "    \n",
        "    x = lstm_output[:, -1, :]\n",
        "    print(x)\n",
        "    weights = tf.Variable(tf.truncated_normal([in_size, out_size], stddev=0.05), name='output_layer_weights')\n",
        "    bias = tf.Variable(tf.zeros([out_size]), name='output_layer_bias')\n",
        "    \n",
        "    output = tf.matmul(x, weights) + bias\n",
        "    return output"
      ],
      "execution_count": 0,
      "outputs": []
    },
    {
      "metadata": {
        "id": "F2L3ZDph4qzH",
        "colab_type": "code",
        "colab": {
          "autoexec": {
            "startup": false,
            "wait_interval": 0
          }
        }
      },
      "cell_type": "code",
      "source": [
        "def opt_loss(logits, targets, learning_rate, grad_clip_margin):\n",
        "    \n",
        "    losses = []\n",
        "    for i in range(targets.get_shape()[0]):\n",
        "        losses.append([(tf.pow(logits[i] - targets[i], 2))])\n",
        "        \n",
        "    loss = tf.reduce_sum(losses)/(2*batch_size)\n",
        "    \n",
        "    #Cliping the gradient loss\n",
        "    gradients = tf.gradients(loss, tf.trainable_variables())\n",
        "    clipper_, _ = tf.clip_by_global_norm(gradients, grad_clip_margin)\n",
        "    optimizer = tf.train.AdamOptimizer(learning_rate)\n",
        "    train_optimizer = optimizer.apply_gradients(zip(gradients, tf.trainable_variables()))\n",
        "    return loss, train_optimizer"
      ],
      "execution_count": 0,
      "outputs": []
    },
    {
      "metadata": {
        "id": "V9_VzB4k4sVz",
        "colab_type": "code",
        "colab": {
          "autoexec": {
            "startup": false,
            "wait_interval": 0
          }
        }
      },
      "cell_type": "code",
      "source": [
        "class StockPredictionRNN(object):\n",
        "    \n",
        "    def __init__(self, learning_rate=0.001, batch_size=7, hidden_layer_size=512, number_of_layers=1, \n",
        "                 dropout=True, dropout_rate=0.8, number_of_classes=1, gradient_clip_margin=4, window_size=7):\n",
        "    \n",
        "        self.inputs = tf.placeholder(tf.float32, [batch_size, window_size, 1], name='input_data')\n",
        "        self.targets = tf.placeholder(tf.float32, [batch_size, 1], name='targets')\n",
        "\n",
        "        cell, init_state = LSTM_cell(hidden_layer_size, batch_size, number_of_layers, dropout, dropout_rate)\n",
        "\n",
        "        outputs, states = tf.nn.dynamic_rnn(cell, self.inputs, initial_state=init_state)\n",
        "\n",
        "        self.logits = output_layer(outputs, hidden_layer_size, number_of_classes)\n",
        "\n",
        "        self.loss, self.opt = opt_loss(self.logits, self.targets, learning_rate, gradient_clip_margin)"
      ],
      "execution_count": 0,
      "outputs": []
    },
    {
      "metadata": {
        "id": "g29fVoHOId-z",
        "colab_type": "code",
        "colab": {
          "autoexec": {
            "startup": false,
            "wait_interval": 0
          }
        }
      },
      "cell_type": "code",
      "source": [
        "class StockPredictionRNN1(object):\n",
        "    \n",
        "    def __init__(self, learning_rate=0.001, batch_size=7, hidden_layer_size=512, number_of_layers=1, \n",
        "                 dropout=True, dropout_rate=1.0, number_of_classes=1, gradient_clip_margin=4, window_size=7):\n",
        "    \n",
        "        self.inputs = tf.placeholder(tf.float32, [batch_size, window_size, 1], name='input_data')\n",
        "        self.targets = tf.placeholder(tf.float32, [batch_size, 1], name='targets')\n",
        "\n",
        "        cell, init_state = LSTM_cell(hidden_layer_size, batch_size, number_of_layers, dropout, dropout_rate)\n",
        "\n",
        "        outputs, states = tf.nn.dynamic_rnn(cell, self.inputs, initial_state=init_state)\n",
        "\n",
        "        self.logits = output_layer(outputs, hidden_layer_size, number_of_classes)\n",
        "\n",
        "        self.loss, self.opt = opt_loss(self.logits, self.targets, learning_rate, gradient_clip_margin)"
      ],
      "execution_count": 0,
      "outputs": []
    },
    {
      "metadata": {
        "id": "noClIJvDIftR",
        "colab_type": "code",
        "colab": {
          "autoexec": {
            "startup": false,
            "wait_interval": 0
          }
        }
      },
      "cell_type": "code",
      "source": [
        "class StockPredictionRNN2(object):\n",
        "    \n",
        "    def __init__(self, learning_rate=0.001, batch_size=7, hidden_layer_size=512, number_of_layers=1, \n",
        "                 dropout=True, dropout_rate=0.9, number_of_classes=1, gradient_clip_margin=4, window_size=7):\n",
        "    \n",
        "        self.inputs = tf.placeholder(tf.float32, [batch_size, window_size, 1], name='input_data')\n",
        "        self.targets = tf.placeholder(tf.float32, [batch_size, 1], name='targets')\n",
        "\n",
        "        cell, init_state = LSTM_cell(hidden_layer_size, batch_size, number_of_layers, dropout, dropout_rate)\n",
        "\n",
        "        outputs, states = tf.nn.dynamic_rnn(cell, self.inputs, initial_state=init_state)\n",
        "\n",
        "        self.logits = output_layer(outputs, hidden_layer_size, number_of_classes)\n",
        "\n",
        "        self.loss, self.opt = opt_loss(self.logits, self.targets, learning_rate, gradient_clip_margin)"
      ],
      "execution_count": 0,
      "outputs": []
    },
    {
      "metadata": {
        "id": "Ldi60R2cOFrF",
        "colab_type": "code",
        "colab": {
          "autoexec": {
            "startup": false,
            "wait_interval": 0
          }
        }
      },
      "cell_type": "code",
      "source": [
        "class StockPredictionRNN3(object):\n",
        "    \n",
        "    def __init__(self, learning_rate=0.001, batch_size=7, hidden_layer_size=512, number_of_layers=1, \n",
        "                 dropout=True, dropout_rate=0.7, number_of_classes=1, gradient_clip_margin=4, window_size=7):\n",
        "    \n",
        "        self.inputs = tf.placeholder(tf.float32, [batch_size, window_size, 1], name='input_data')\n",
        "        self.targets = tf.placeholder(tf.float32, [batch_size, 1], name='targets')\n",
        "\n",
        "        cell, init_state = LSTM_cell(hidden_layer_size, batch_size, number_of_layers, dropout, dropout_rate)\n",
        "\n",
        "        outputs, states = tf.nn.dynamic_rnn(cell, self.inputs, initial_state=init_state)\n",
        "\n",
        "        self.logits = output_layer(outputs, hidden_layer_size, number_of_classes)\n",
        "\n",
        "        self.loss, self.opt = opt_loss(self.logits, self.targets, learning_rate, gradient_clip_margin)"
      ],
      "execution_count": 0,
      "outputs": []
    },
    {
      "metadata": {
        "id": "y9d-59L040SD",
        "colab_type": "code",
        "colab": {
          "autoexec": {
            "startup": false,
            "wait_interval": 0
          },
          "base_uri": "https://localhost:8080/",
          "height": 35
        },
        "outputId": "924205c3-143e-4082-97aa-23bc9747c90a",
        "executionInfo": {
          "status": "ok",
          "timestamp": 1528100554795,
          "user_tz": -540,
          "elapsed": 6451,
          "user": {
            "displayName": "도로로롱이",
            "photoUrl": "https://lh3.googleusercontent.com/a/default-user=s128",
            "userId": "100867287331611266719"
          }
        }
      },
      "cell_type": "code",
      "source": [
        "tf.reset_default_graph()\n",
        "model = StockPredictionRNN()"
      ],
      "execution_count": 127,
      "outputs": [
        {
          "output_type": "stream",
          "text": [
            "Tensor(\"strided_slice:0\", shape=(7, 512), dtype=float32)\n"
          ],
          "name": "stdout"
        }
      ]
    },
    {
      "metadata": {
        "id": "7Rq4TPv647EI",
        "colab_type": "code",
        "colab": {
          "autoexec": {
            "startup": false,
            "wait_interval": 0
          }
        }
      },
      "cell_type": "code",
      "source": [
        "session =  tf.Session()\n",
        "session.run(tf.global_variables_initializer())"
      ],
      "execution_count": 0,
      "outputs": []
    },
    {
      "metadata": {
        "id": "dJ4yFuYJ5GF1",
        "colab_type": "code",
        "colab": {
          "autoexec": {
            "startup": false,
            "wait_interval": 0
          },
          "base_uri": "https://localhost:8080/",
          "height": 195
        },
        "outputId": "3ef70003-40d6-4cb6-d76e-3e633dba19ae",
        "executionInfo": {
          "status": "ok",
          "timestamp": 1528101405113,
          "user_tz": -540,
          "elapsed": 793104,
          "user": {
            "displayName": "도로로롱이",
            "photoUrl": "https://lh3.googleusercontent.com/a/default-user=s128",
            "userId": "100867287331611266719"
          }
        }
      },
      "cell_type": "code",
      "source": [
        "for i in range(epochs):\n",
        "    traind_scores = []\n",
        "    ii = 0\n",
        "    epoch_loss = []\n",
        "    while(ii + batch_size) <= len(X_train):\n",
        "        X_batch = X_train[ii:ii+batch_size]\n",
        "        y_batch = y_train[ii:ii+batch_size]\n",
        "        \n",
        "        o, c, _ = session.run([model.logits, model.loss, model.opt], feed_dict={model.inputs:X_batch, model.targets:y_batch})\n",
        "        \n",
        "        epoch_loss.append(c)\n",
        "        traind_scores.append(o)\n",
        "        ii += batch_size\n",
        "    if (i % 50) == 0:\n",
        "        print('Epoch {}/{}'.format(i, epochs), ' Current loss: {}'.format(np.mean(epoch_loss)))\n",
        "        \n",
        "       # 에폭 500 드롭아웃 0.2"
      ],
      "execution_count": 129,
      "outputs": [
        {
          "output_type": "stream",
          "text": [
            "Epoch 0/500  Current loss: 0.06694888323545456\n",
            "Epoch 50/500  Current loss: 0.0073886229656636715\n",
            "Epoch 100/500  Current loss: 0.00663337018340826\n",
            "Epoch 150/500  Current loss: 0.006177738308906555\n",
            "Epoch 200/500  Current loss: 0.007497742306441069\n",
            "Epoch 250/500  Current loss: 0.006178833078593016\n",
            "Epoch 300/500  Current loss: 0.004228238016366959\n",
            "Epoch 350/500  Current loss: 0.004299803636968136\n",
            "Epoch 400/500  Current loss: 0.005313394591212273\n",
            "Epoch 450/500  Current loss: 0.003993416205048561\n"
          ],
          "name": "stdout"
        }
      ]
    },
    {
      "metadata": {
        "id": "MtXGnE8lCF2D",
        "colab_type": "code",
        "colab": {
          "autoexec": {
            "startup": false,
            "wait_interval": 0
          }
        }
      },
      "cell_type": "code",
      "source": [
        "epochs = 300\n",
        "batch_size = 7"
      ],
      "execution_count": 0,
      "outputs": []
    },
    {
      "metadata": {
        "id": "aZ2mPYciCPKS",
        "colab_type": "code",
        "colab": {
          "autoexec": {
            "startup": false,
            "wait_interval": 0
          }
        }
      },
      "cell_type": "code",
      "source": [
        "session =  tf.Session()\n",
        "session.run(tf.global_variables_initializer())"
      ],
      "execution_count": 0,
      "outputs": []
    },
    {
      "metadata": {
        "id": "nakilPNmCJlp",
        "colab_type": "code",
        "colab": {
          "autoexec": {
            "startup": false,
            "wait_interval": 0
          },
          "base_uri": "https://localhost:8080/",
          "height": 124
        },
        "outputId": "9867acc9-5581-47a1-e942-f363d73b5f1a",
        "executionInfo": {
          "status": "ok",
          "timestamp": 1528103482069,
          "user_tz": -540,
          "elapsed": 480416,
          "user": {
            "displayName": "도로로롱이",
            "photoUrl": "https://lh3.googleusercontent.com/a/default-user=s128",
            "userId": "100867287331611266719"
          }
        }
      },
      "cell_type": "code",
      "source": [
        "for i in range(epochs):\n",
        "    traind_scores = []\n",
        "    ii = 0\n",
        "    epoch_loss = []\n",
        "    while(ii + batch_size) <= len(X_train):\n",
        "        X_batch = X_train[ii:ii+batch_size]\n",
        "        y_batch = y_train[ii:ii+batch_size]\n",
        "        \n",
        "        o, c, _ = session.run([model.logits, model.loss, model.opt], feed_dict={model.inputs:X_batch, model.targets:y_batch})\n",
        "        \n",
        "        epoch_loss.append(c)\n",
        "        traind_scores.append(o)\n",
        "        ii += batch_size\n",
        "    if (i % 50) == 0:\n",
        "        print('Epoch {}/{}'.format(i, epochs), ' Current loss: {}'.format(np.mean(epoch_loss)))\n",
        "        \n",
        "session.close()  #에폭  =300 드롭아웃 0.2"
      ],
      "execution_count": 170,
      "outputs": [
        {
          "output_type": "stream",
          "text": [
            "Epoch 0/300  Current loss: 0.054245494306087494\n",
            "Epoch 50/300  Current loss: 0.007492466829717159\n",
            "Epoch 100/300  Current loss: 0.005835872609168291\n",
            "Epoch 150/300  Current loss: 0.005576197057962418\n",
            "Epoch 200/300  Current loss: 0.0052744667045772076\n",
            "Epoch 250/300  Current loss: 0.004422354977577925\n"
          ],
          "name": "stdout"
        }
      ]
    },
    {
      "metadata": {
        "id": "CSNszY8UJYFB",
        "colab_type": "code",
        "colab": {
          "autoexec": {
            "startup": false,
            "wait_interval": 0
          },
          "base_uri": "https://localhost:8080/",
          "height": 35
        },
        "outputId": "01225417-a7c5-466c-ae6b-cc0b96cde332",
        "executionInfo": {
          "status": "ok",
          "timestamp": 1528104854143,
          "user_tz": -540,
          "elapsed": 1186,
          "user": {
            "displayName": "도로로롱이",
            "photoUrl": "https://lh3.googleusercontent.com/a/default-user=s128",
            "userId": "100867287331611266719"
          }
        }
      },
      "cell_type": "code",
      "source": [
        "tf.reset_default_graph()\n",
        "model = StockPredictionRNN1()"
      ],
      "execution_count": 175,
      "outputs": [
        {
          "output_type": "stream",
          "text": [
            "Tensor(\"strided_slice:0\", shape=(7, 512), dtype=float32)\n"
          ],
          "name": "stdout"
        }
      ]
    },
    {
      "metadata": {
        "id": "Ulyc6PxoJYlS",
        "colab_type": "code",
        "colab": {
          "autoexec": {
            "startup": false,
            "wait_interval": 0
          }
        }
      },
      "cell_type": "code",
      "source": [
        "session =  tf.Session()\n",
        "session.run(tf.global_variables_initializer())"
      ],
      "execution_count": 0,
      "outputs": []
    },
    {
      "metadata": {
        "id": "P0IUY-ckJchf",
        "colab_type": "code",
        "colab": {
          "autoexec": {
            "startup": false,
            "wait_interval": 0
          },
          "base_uri": "https://localhost:8080/",
          "height": 124
        },
        "outputId": "99ffb483-45c6-4a01-e628-170b7f21777d",
        "executionInfo": {
          "status": "ok",
          "timestamp": 1528105364236,
          "user_tz": -540,
          "elapsed": 481408,
          "user": {
            "displayName": "도로로롱이",
            "photoUrl": "https://lh3.googleusercontent.com/a/default-user=s128",
            "userId": "100867287331611266719"
          }
        }
      },
      "cell_type": "code",
      "source": [
        "for i in range(epochs):\n",
        "    traind_scores = []\n",
        "    ii = 0\n",
        "    epoch_loss = []\n",
        "    while(ii + batch_size) <= len(X_train):\n",
        "        X_batch = X_train[ii:ii+batch_size]\n",
        "        y_batch = y_train[ii:ii+batch_size]\n",
        "        \n",
        "        o, c, _ = session.run([model.logits, model.loss, model.opt], feed_dict={model.inputs:X_batch, model.targets:y_batch})\n",
        "        \n",
        "        epoch_loss.append(c)\n",
        "        traind_scores.append(o)\n",
        "        ii += batch_size\n",
        "    if (i % 50) == 0:\n",
        "        print('Epoch {}/{}'.format(i, epochs), ' Current loss: {}'.format(np.mean(epoch_loss)))\n",
        "        \n",
        "session.close() #에폭 =300 드롭아웃 0.0"
      ],
      "execution_count": 177,
      "outputs": [
        {
          "output_type": "stream",
          "text": [
            "Epoch 0/300  Current loss: 0.06659471243619919\n",
            "Epoch 50/300  Current loss: 0.007018796168267727\n",
            "Epoch 100/300  Current loss: 0.005894131027162075\n",
            "Epoch 150/300  Current loss: 0.005207979120314121\n",
            "Epoch 200/300  Current loss: 0.0049758851528167725\n",
            "Epoch 250/300  Current loss: 0.005468552932143211\n"
          ],
          "name": "stdout"
        }
      ]
    },
    {
      "metadata": {
        "id": "qcbeo6_pJhIs",
        "colab_type": "code",
        "colab": {
          "autoexec": {
            "startup": false,
            "wait_interval": 0
          },
          "base_uri": "https://localhost:8080/",
          "height": 35
        },
        "outputId": "b60be231-2289-4aa6-c83a-0e7c14ef848a",
        "executionInfo": {
          "status": "ok",
          "timestamp": 1528106125479,
          "user_tz": -540,
          "elapsed": 1513,
          "user": {
            "displayName": "도로로롱이",
            "photoUrl": "https://lh3.googleusercontent.com/a/default-user=s128",
            "userId": "100867287331611266719"
          }
        }
      },
      "cell_type": "code",
      "source": [
        "tf.reset_default_graph()\n",
        "model = StockPredictionRNN2()"
      ],
      "execution_count": 184,
      "outputs": [
        {
          "output_type": "stream",
          "text": [
            "Tensor(\"strided_slice:0\", shape=(7, 512), dtype=float32)\n"
          ],
          "name": "stdout"
        }
      ]
    },
    {
      "metadata": {
        "id": "avJof27_LzxU",
        "colab_type": "code",
        "colab": {
          "autoexec": {
            "startup": false,
            "wait_interval": 0
          }
        }
      },
      "cell_type": "code",
      "source": [
        "session =  tf.Session()\n",
        "session.run(tf.global_variables_initializer())"
      ],
      "execution_count": 0,
      "outputs": []
    },
    {
      "metadata": {
        "id": "X7Gb3eXtL02d",
        "colab_type": "code",
        "colab": {
          "autoexec": {
            "startup": false,
            "wait_interval": 0
          },
          "base_uri": "https://localhost:8080/",
          "height": 124
        },
        "outputId": "a8d8f2c9-ef93-41d4-bc65-3a49822ddde9",
        "executionInfo": {
          "status": "ok",
          "timestamp": 1528105985815,
          "user_tz": -540,
          "elapsed": 480106,
          "user": {
            "displayName": "도로로롱이",
            "photoUrl": "https://lh3.googleusercontent.com/a/default-user=s128",
            "userId": "100867287331611266719"
          }
        }
      },
      "cell_type": "code",
      "source": [
        "for i in range(epochs):\n",
        "    traind_scores = []\n",
        "    ii = 0\n",
        "    epoch_loss = []\n",
        "    while(ii + batch_size) <= len(X_train):\n",
        "        X_batch = X_train[ii:ii+batch_size]\n",
        "        y_batch = y_train[ii:ii+batch_size]\n",
        "        \n",
        "        o, c, _ = session.run([model.logits, model.loss, model.opt], feed_dict={model.inputs:X_batch, model.targets:y_batch})\n",
        "        \n",
        "        epoch_loss.append(c)\n",
        "        traind_scores.append(o)\n",
        "        ii += batch_size\n",
        "    if (i % 50) == 0:\n",
        "        print('Epoch {}/{}'.format(i, epochs), ' Current loss: {}'.format(np.mean(epoch_loss)))\n",
        "        \n",
        "session.close() #에폭 =300 드롭아웃 0.1"
      ],
      "execution_count": 180,
      "outputs": [
        {
          "output_type": "stream",
          "text": [
            "Epoch 0/300  Current loss: 0.0623345673084259\n",
            "Epoch 50/300  Current loss: 0.005556834861636162\n",
            "Epoch 100/300  Current loss: 0.005832142196595669\n",
            "Epoch 150/300  Current loss: 0.004671074450016022\n",
            "Epoch 200/300  Current loss: 0.005246750544756651\n",
            "Epoch 250/300  Current loss: 0.0050420006737113\n"
          ],
          "name": "stdout"
        }
      ]
    },
    {
      "metadata": {
        "id": "69KnN3feN_BK",
        "colab_type": "code",
        "colab": {
          "autoexec": {
            "startup": false,
            "wait_interval": 0
          }
        }
      },
      "cell_type": "code",
      "source": [
        "epochs = 500\n",
        "batch_size = 7"
      ],
      "execution_count": 0,
      "outputs": []
    },
    {
      "metadata": {
        "id": "h8UBOjBCOR-i",
        "colab_type": "code",
        "colab": {
          "autoexec": {
            "startup": false,
            "wait_interval": 0
          },
          "base_uri": "https://localhost:8080/",
          "height": 35
        },
        "outputId": "e6ec18c8-7540-452e-cc0b-be9b219e8843",
        "executionInfo": {
          "status": "ok",
          "timestamp": 1528107267516,
          "user_tz": -540,
          "elapsed": 1300,
          "user": {
            "displayName": "도로로롱이",
            "photoUrl": "https://lh3.googleusercontent.com/a/default-user=s128",
            "userId": "100867287331611266719"
          }
        }
      },
      "cell_type": "code",
      "source": [
        "tf.reset_default_graph()\n",
        "model = StockPredictionRNN3()"
      ],
      "execution_count": 192,
      "outputs": [
        {
          "output_type": "stream",
          "text": [
            "Tensor(\"strided_slice:0\", shape=(7, 512), dtype=float32)\n"
          ],
          "name": "stdout"
        }
      ]
    },
    {
      "metadata": {
        "id": "jdR2G3oBOYQR",
        "colab_type": "code",
        "colab": {
          "autoexec": {
            "startup": false,
            "wait_interval": 0
          }
        }
      },
      "cell_type": "code",
      "source": [
        "session =  tf.Session()\n",
        "session.run(tf.global_variables_initializer())"
      ],
      "execution_count": 0,
      "outputs": []
    },
    {
      "metadata": {
        "id": "-R6NoFuAOTBR",
        "colab_type": "code",
        "colab": {
          "autoexec": {
            "startup": false,
            "wait_interval": 0
          },
          "base_uri": "https://localhost:8080/",
          "height": 195
        },
        "outputId": "dab5156d-1069-4edb-f65c-081e2e4e2d05",
        "executionInfo": {
          "status": "ok",
          "timestamp": 1528108076524,
          "user_tz": -540,
          "elapsed": 806222,
          "user": {
            "displayName": "도로로롱이",
            "photoUrl": "https://lh3.googleusercontent.com/a/default-user=s128",
            "userId": "100867287331611266719"
          }
        }
      },
      "cell_type": "code",
      "source": [
        "for i in range(epochs):\n",
        "    traind_scores = []\n",
        "    ii = 0\n",
        "    epoch_loss = []\n",
        "    while(ii + batch_size) <= len(X_train):\n",
        "        X_batch = X_train[ii:ii+batch_size]\n",
        "        y_batch = y_train[ii:ii+batch_size]\n",
        "        \n",
        "        o, c, _ = session.run([model.logits, model.loss, model.opt], feed_dict={model.inputs:X_batch, model.targets:y_batch})\n",
        "        \n",
        "        epoch_loss.append(c)\n",
        "        traind_scores.append(o)\n",
        "        ii += batch_size\n",
        "    if (i % 50) == 0:\n",
        "        print('Epoch {}/{}'.format(i, epochs), ' Current loss: {}'.format(np.mean(epoch_loss)))\n",
        "        \n",
        "session.close() #에폭 =500 드롭아웃 0.3"
      ],
      "execution_count": 194,
      "outputs": [
        {
          "output_type": "stream",
          "text": [
            "Epoch 0/500  Current loss: 0.06542589515447617\n",
            "Epoch 50/500  Current loss: 0.006817192304879427\n",
            "Epoch 100/500  Current loss: 0.007563125807791948\n",
            "Epoch 150/500  Current loss: 0.005066621582955122\n",
            "Epoch 200/500  Current loss: 0.005121171940118074\n",
            "Epoch 250/500  Current loss: 0.005533943884074688\n",
            "Epoch 300/500  Current loss: 0.005702085793018341\n",
            "Epoch 350/500  Current loss: 0.004063922446221113\n",
            "Epoch 400/500  Current loss: 0.004329295363277197\n",
            "Epoch 450/500  Current loss: 0.004526133183389902\n"
          ],
          "name": "stdout"
        }
      ]
    },
    {
      "metadata": {
        "id": "bSIn3o8e5Ode",
        "colab_type": "code",
        "colab": {
          "autoexec": {
            "startup": false,
            "wait_interval": 0
          }
        }
      },
      "cell_type": "code",
      "source": [
        "sup =[]\n",
        "for i in range(len(traind_scores)):\n",
        "    for j in range(len(traind_scores[i])):\n",
        "        sup.append(traind_scores[i][j])"
      ],
      "execution_count": 0,
      "outputs": []
    },
    {
      "metadata": {
        "id": "NLJKZFAX9vHO",
        "colab_type": "code",
        "colab": {
          "autoexec": {
            "startup": false,
            "wait_interval": 0
          }
        }
      },
      "cell_type": "code",
      "source": [
        "tests = []\n",
        "i = 0\n",
        "while i+batch_size <= len(X_test):\n",
        "    \n",
        "    o = session.run([model.logits], feed_dict={model.inputs:X_test[i:i+batch_size]})\n",
        "    i += batch_size\n",
        "    tests.append(o)"
      ],
      "execution_count": 0,
      "outputs": []
    },
    {
      "metadata": {
        "id": "fAJM9wmT9wfK",
        "colab_type": "code",
        "colab": {
          "autoexec": {
            "startup": false,
            "wait_interval": 0
          }
        }
      },
      "cell_type": "code",
      "source": [
        "tests_new = []\n",
        "for i in range(len(tests)):\n",
        "    for j in range(len(tests[i][0])):\n",
        "        tests_new.append(tests[i][0][j])"
      ],
      "execution_count": 0,
      "outputs": []
    },
    {
      "metadata": {
        "id": "YNDnMmBV_ret",
        "colab_type": "code",
        "colab": {
          "autoexec": {
            "startup": false,
            "wait_interval": 0
          },
          "base_uri": "https://localhost:8080/",
          "height": 35
        },
        "outputId": "33719e23-e3b3-4b2f-b24d-a699329e3605",
        "executionInfo": {
          "status": "ok",
          "timestamp": 1528102310583,
          "user_tz": -540,
          "elapsed": 603,
          "user": {
            "displayName": "도로로롱이",
            "photoUrl": "https://lh3.googleusercontent.com/a/default-user=s128",
            "userId": "100867287331611266719"
          }
        }
      },
      "cell_type": "code",
      "source": [
        "len(tests_new)"
      ],
      "execution_count": 155,
      "outputs": [
        {
          "output_type": "execute_result",
          "data": {
            "text/plain": [
              "203"
            ]
          },
          "metadata": {
            "tags": []
          },
          "execution_count": 155
        }
      ]
    },
    {
      "metadata": {
        "id": "5FJTg0FG9x6B",
        "colab_type": "code",
        "colab": {
          "autoexec": {
            "startup": false,
            "wait_interval": 0
          }
        }
      },
      "cell_type": "code",
      "source": [
        "test_results = []\n",
        "for i in range(696):\n",
        "    if i >= 493:\n",
        "        test_results.append(tests_new[i-493])\n",
        "    else:\n",
        "        test_results.append(None)"
      ],
      "execution_count": 0,
      "outputs": []
    },
    {
      "metadata": {
        "id": "rJXeoElk9zWz",
        "colab_type": "code",
        "colab": {
          "autoexec": {
            "startup": false,
            "wait_interval": 0
          },
          "base_uri": "https://localhost:8080/",
          "height": 428
        },
        "outputId": "4fd5e8ad-e6cb-4c96-f0f2-9953a0b4553e",
        "executionInfo": {
          "status": "ok",
          "timestamp": 1528102365587,
          "user_tz": -540,
          "elapsed": 837,
          "user": {
            "displayName": "도로로롱이",
            "photoUrl": "https://lh3.googleusercontent.com/a/default-user=s128",
            "userId": "100867287331611266719"
          }
        }
      },
      "cell_type": "code",
      "source": [
        "plt.figure(figsize=(16, 7))\n",
        "plt.plot(scaled_dataset, label='Original data')\n",
        "plt.plot(sup, label='Training data')\n",
        "plt.plot(test_results, label='Testing data')\n",
        "plt.legend()\n",
        "plt.show()"
      ],
      "execution_count": 158,
      "outputs": [
        {
          "output_type": "display_data",
          "data": {
            "image/png": "[encoded data removed]",
            "text/plain": [
              "<matplotlib.figure.Figure at 0x7fa33b9a35c0>"
            ]
          },
          "metadata": {
            "tags": []
          }
        }
      ]
    },
    {
      "metadata": {
        "id": "Wu0yxZNw_4D-",
        "colab_type": "code",
        "colab": {
          "autoexec": {
            "startup": false,
            "wait_interval": 0
          },
          "base_uri": "https://localhost:8080/",
          "height": 134
        },
        "outputId": "bada70b6-0c95-4c9b-f9f4-9af4c9fa661a",
        "executionInfo": {
          "status": "error",
          "timestamp": 1528108436557,
          "user_tz": -540,
          "elapsed": 624,
          "user": {
            "displayName": "도로로롱이",
            "photoUrl": "https://lh3.googleusercontent.com/a/default-user=s128",
            "userId": "100867287331611266719"
          }
        }
      },
      "cell_type": "code",
      "source": [
        "# 에폭 : 500  드롭아웃 : 20%\n",
        "Epoch 0/500  Current loss: 0.06694888323545456\n",
        "Epoch 50/500  Current loss: 0.0073886229656636715\n",
        "Epoch 100/500  Current loss: 0.00663337018340826\n",
        "Epoch 150/500  Current loss: 0.006177738308906555\n",
        "Epoch 200/500  Current loss: 0.007497742306441069\n",
        "Epoch 250/500  Current loss: 0.006178833078593016\n",
        "Epoch 300/500  Current loss: 0.004228238016366959\n",
        "Epoch 350/500  Current loss: 0.004299803636968136\n",
        "Epoch 400/500  Current loss: 0.005313394591212273\n",
        "Epoch 450/500  Current loss: 0.003993416205048561\n",
        "  \n",
        "  \n",
        "# 에폭 : 500  드롭아웃 : 30%\n",
        "Epoch 0/500  Current loss: 0.06542589515447617\n",
        "Epoch 50/500  Current loss: 0.006817192304879427\n",
        "Epoch 100/500  Current loss: 0.007563125807791948\n",
        "Epoch 150/500  Current loss: 0.005066621582955122\n",
        "Epoch 200/500  Current loss: 0.005121171940118074\n",
        "Epoch 250/500  Current loss: 0.005533943884074688\n",
        "Epoch 300/500  Current loss: 0.005702085793018341\n",
        "Epoch 350/500  Current loss: 0.004063922446221113\n",
        "Epoch 400/500  Current loss: 0.004329295363277197\n",
        "Epoch 450/500  Current loss: 0.004526133183389902\n",
        "  \n",
        "  \n",
        "#에폭 : 300  드롭아웃 : 0%\n",
        "Epoch 0/300  Current loss: 0.06659471243619919\n",
        "Epoch 50/300  Current loss: 0.007018796168267727\n",
        "Epoch 100/300  Current loss: 0.005894131027162075\n",
        "Epoch 150/300  Current loss: 0.005207979120314121\n",
        "Epoch 200/300  Current loss: 0.0049758851528167725\n",
        "Epoch 250/300  Current loss: 0.005468552932143211\n",
        "  \n",
        "  \n",
        "#에폭 : 300  드롭아웃 : 10%\n",
        "Epoch 0/300  Current loss: 0.0623345673084259\n",
        "Epoch 50/300  Current loss: 0.005556834861636162\n",
        "Epoch 100/300  Current loss: 0.005832142196595669\n",
        "Epoch 150/300  Current loss: 0.004671074450016022\n",
        "Epoch 200/300  Current loss: 0.005246750544756651\n",
        "Epoch 250/300  Current loss: 0.0050420006737113\n",
        "  \n",
        "  \n",
        "#에폭 : 300  드롭아웃 : 20%\n",
        "Epoch 0/300  Current loss: 0.054245494306087494\n",
        "Epoch 50/300  Current loss: 0.007492466829717159\n",
        "Epoch 100/300  Current loss: 0.005835872609168291\n",
        "Epoch 150/300  Current loss: 0.005576197057962418\n",
        "Epoch 200/300  Current loss: 0.0052744667045772076\n",
        "Epoch 250/300  Current loss: 0.004422354977577925\n",
        "  \n",
        "\n",
        "\n",
        "  \n",
        "  \n",
        "\n"
      ],
      "execution_count": 195,
      "outputs": [
        {
          "output_type": "error",
          "ename": "SyntaxError",
          "evalue": "ignored",
          "traceback": [
            "\u001b[0;36m  File \u001b[0;32m\"<ipython-input-195-420174aa43c8>\"\u001b[0;36m, line \u001b[0;32m1\u001b[0m\n\u001b[0;31m    Epoch 0/500  Current loss: 0.06694888323545456\u001b[0m\n\u001b[0m          ^\u001b[0m\n\u001b[0;31mSyntaxError\u001b[0m\u001b[0;31m:\u001b[0m invalid syntax\n"
          ]
        }
      ]
    }
  ]
}