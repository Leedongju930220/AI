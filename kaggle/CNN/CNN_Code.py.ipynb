{
 "cells": [
  {
   "cell_type": "markdown",
   "metadata": {},
   "source": [
    "# 구조\n",
    "### 1. Convolutional Layer n°1 with 32 filters\n",
    "        1- Max pooling\n",
    "        2- Relu\n",
    "        \n",
    "### 2. Convolutional Layer n°2 with 64 filters\n",
    "        1- Max pooling\n",
    "        2- Relu\n",
    "        3- DropOut\n",
    "      \n",
    "### 3. Flatten Layer\n",
    "\n",
    "### 4. Fully Connected Layer with 100 nodes\n",
    "        1- Relu\n",
    "        2- DropOut\n",
    "\n",
    "### 5. Fully Connected Layer with n nodes (n = number of breeds)\n",
    "\n",
    "#### *컴퓨터 성능이 좋다면 더 많은 ConvNet을 만들어도 된다. 학생이기에 컴퓨터 성능이 아주 좋지 않아 그래픽카드없는 노트북 로컬에서 돌리기 때문에 2개 층만 사용하였다\n",
    "\n",
    "\n",
    "#### <<< 이 코드에서 사용되는 데이터는 Kaggle Dog Breed Identification프로젝트 데이터를 사용했습니다.\n",
    "#### 이 코드는 Kernels에 공개되어 있는 Simple Convolutional N. Network with Tensorflow 제목의 코드를 보며, 직접 조금씩 CNN부분을  변경해보기도 한 \n",
    "#### 코드입니다. 원본 코드를 보고싶으시면 https://www.kaggle.com/kaggleslayer/simple-convolutional-n-network-with-tensorflow?scriptVersionId=1869695 참고하시면 됩니다. >>>"
   ]
  },
  {
   "cell_type": "markdown",
   "metadata": {},
   "source": [
    "### 패키지 다운로드 "
   ]
  },
  {
   "cell_type": "code",
   "execution_count": 2,
   "metadata": {},
   "outputs": [
    {
     "data": {
      "text/plain": [
       "'1.6.0'"
      ]
     },
     "execution_count": 2,
     "metadata": {},
     "output_type": "execute_result"
    }
   ],
   "source": [
    "%matplotlib inline\n",
    "import matplotlib.pyplot as plt\n",
    "import tensorflow as tf\n",
    "import numpy as np\n",
    "import time\n",
    "from datetime import timedelta\n",
    "import math\n",
    "import os\n",
    "import scipy.misc\n",
    "from scipy.stats import itemfreq\n",
    "from random import sample\n",
    "import pickle\n",
    "from sklearn.metrics import confusion_matrix\n",
    "from sklearn.model_selection import train_test_split\n",
    "\n",
    "\n",
    "import PIL.Image\n",
    "from IPython.display import display\n",
    "\n",
    "\n",
    "import pandas as pd\n",
    "\n",
    "from zipfile import ZipFile\n",
    "from io import BytesIO\n",
    "\n",
    "tf.__version__"
   ]
  },
  {
   "cell_type": "code",
   "execution_count": 6,
   "metadata": {},
   "outputs": [
    {
     "data": {
      "text/plain": [
       "10222"
      ]
     },
     "execution_count": 6,
     "metadata": {},
     "output_type": "execute_result"
    }
   ],
   "source": [
    "\n",
    "archive_train = ZipFile(\"train.zip\", 'r')\n",
    "archive_test = ZipFile(\"test.zip\", 'r')\n",
    "\n",
    "archive_train.namelist()[0:5]\n",
    "\n",
    "len(archive_train.namelist()[:])-1\n",
    "# 파일에 .zip파일들을 넣고 unzip을 한다. \n",
    "# 잘되었는지 출력하는 부분\n",
    "# 행이 10222개인 파일이다."
   ]
  },
  {
   "cell_type": "markdown",
   "metadata": {},
   "source": [
    "우리가 받은 파일들은 모두 같은 size를 가지고 있지 않기 때문에 reshape를 해줘야 한다.\n",
    "255픽셀로 나누고 그 값들을 0~1사이로 normalize시킨다."
   ]
  },
  {
   "cell_type": "code",
   "execution_count": 7,
   "metadata": {},
   "outputs": [],
   "source": [
    "def DataBase_creator(archivezip, nwigth, nheight, save_name):\n",
    "    \n",
    "    start_time = time.time()\n",
    "    # 이 변수는 계산시간을 보기위해 설정한다\n",
    "    \n",
    "    s = (len(archivezip.namelist()[:])-1, nwigth, nheight,3) #nwigth x nheight 은 사진의 총 pixel수 이다.끝에 3은 이미지는 RGB이기 때문에 R,G,B 3개의 채널을 가지고 있기 때문\n",
    "    allImage = np.zeros(s) #모든 픽셀수만큼 zero를 담은 공간을 만들어 준다\n",
    "\n",
    "    for i in range(1,len(archivezip.namelist()[:])):\n",
    "        filename = BytesIO(archivezip.read(archivezip.namelist()[i]))\n",
    "        image = PIL.Image.open(filename) # PIL.Image.open()은 이미지 파일을 열기위해 사용한다\n",
    "        image = image.resize((nwigth, nheight))  # 위에서 연 이미지를 resize한다\n",
    "        image = np.array(image)\n",
    "        image = np.clip(image/255.0, 0.0, 1.0) #255 = max of the value of a pixel\n",
    "\n",
    "        allImage[i-1]=image\n",
    "    \n",
    "    #resize한 이미지를 다시 저장하는 코드\n",
    "    pickle.dump(allImage, open( save_name + '.p', \"wb\" ) )\n",
    "    \n",
    "\n",
    "    end_time = time.time()\n",
    "\n",
    "    # 얼마나 시간이 걸렸는지 찍어보는 부분\n",
    "    time_dif = end_time - start_time\n",
    "\n",
    "    # 사용된 시간을 출력한다\n",
    "    print(\"Time usage: \" + str(timedelta(seconds=int(round(time_dif)))))"
   ]
  },
  {
   "cell_type": "code",
   "execution_count": 8,
   "metadata": {},
   "outputs": [
    {
     "name": "stdout",
     "output_type": "stream",
     "text": [
      "Time usage: 0:00:54\n"
     ]
    }
   ],
   "source": [
    "image_resize = 60\n",
    "DataBase_creator(archivezip = archive_train, nwigth = image_resize, nheight = image_resize , save_name = \"train\")"
   ]
  },
  {
   "cell_type": "code",
   "execution_count": 9,
   "metadata": {},
   "outputs": [
    {
     "name": "stdout",
     "output_type": "stream",
     "text": [
      "Time usage: 0:00:56\n"
     ]
    }
   ],
   "source": [
    "DataBase_creator(archivezip = archive_test, nwigth = image_resize, nheight = image_resize , save_name = \"test\")\n",
    "#in[8]코드는  train에 사용할 데이터, 이 코드는 test 데이터이다"
   ]
  },
  {
   "cell_type": "code",
   "execution_count": 10,
   "metadata": {},
   "outputs": [
    {
     "data": {
      "text/plain": [
       "(10222, 60, 60, 3)"
      ]
     },
     "execution_count": 10,
     "metadata": {},
     "output_type": "execute_result"
    }
   ],
   "source": [
    "train = pickle.load( open( \"train.p\", \"rb\" ) )\n",
    "train.shape\n",
    "#train 데이터의 shape를 찍는다"
   ]
  },
  {
   "cell_type": "markdown",
   "metadata": {},
   "source": [
    "총 10222개의 사진와 가로,세로 size=60, RGB 3채널의 데이터이다"
   ]
  },
  {
   "cell_type": "code",
   "execution_count": 11,
   "metadata": {},
   "outputs": [
    {
     "data": {
      "text/plain": [
       "(10357, 60, 60, 3)"
      ]
     },
     "execution_count": 11,
     "metadata": {},
     "output_type": "execute_result"
    }
   ],
   "source": [
    "test = pickle.load( open( \"test.p\", \"rb\" ) )\n",
    "test.shape\n",
    "#text 데이터의 shape를 찍는다"
   ]
  },
  {
   "cell_type": "code",
   "execution_count": 28,
   "metadata": {},
   "outputs": [
    {
     "data": {
      "image/png": "[encoded data removed]",
      "text/plain": [
       "<Figure size 432x288 with 1 Axes>"
      ]
     },
     "metadata": {},
     "output_type": "display_data"
    }
   ],
   "source": [
    "lum_img = train[1608,:,:,:]\n",
    "plt.imshow(lum_img)\n",
    "plt.show()\n",
    "# train데이터가 잘 되었는지 확인해본다"
   ]
  },
  {
   "cell_type": "code",
   "execution_count": 30,
   "metadata": {},
   "outputs": [
    {
     "data": {
      "text/html": [
       "<div>\n",
       "<style scoped>\n",
       "    .dataframe tbody tr th:only-of-type {\n",
       "        vertical-align: middle;\n",
       "    }\n",
       "\n",
       "    .dataframe tbody tr th {\n",
       "        vertical-align: top;\n",
       "    }\n",
       "\n",
       "    .dataframe thead th {\n",
       "        text-align: right;\n",
       "    }\n",
       "</style>\n",
       "<table border=\"1\" class=\"dataframe\">\n",
       "  <thead>\n",
       "    <tr style=\"text-align: right;\">\n",
       "      <th></th>\n",
       "      <th>id</th>\n",
       "      <th>breed</th>\n",
       "    </tr>\n",
       "  </thead>\n",
       "  <tbody>\n",
       "    <tr>\n",
       "      <th>751</th>\n",
       "      <td>12b72be0bcd7a96172fee4f7cd5b01fd</td>\n",
       "      <td>great_pyrenees</td>\n",
       "    </tr>\n",
       "    <tr>\n",
       "      <th>820</th>\n",
       "      <td>142ef9990b3db0d521f87f9133a6b84f</td>\n",
       "      <td>labrador_retriever</td>\n",
       "    </tr>\n",
       "    <tr>\n",
       "      <th>645</th>\n",
       "      <td>0fc12a365adfcbb603e298b10149632a</td>\n",
       "      <td>miniature_pinscher</td>\n",
       "    </tr>\n",
       "    <tr>\n",
       "      <th>8491</th>\n",
       "      <td>d530703b353991efcf62e7e10b8f7ee2</td>\n",
       "      <td>collie</td>\n",
       "    </tr>\n",
       "    <tr>\n",
       "      <th>7308</th>\n",
       "      <td>b72130fb5921d7a8711029fcd1f49e88</td>\n",
       "      <td>whippet</td>\n",
       "    </tr>\n",
       "  </tbody>\n",
       "</table>\n",
       "</div>"
      ],
      "text/plain": [
       "                                    id               breed\n",
       "751   12b72be0bcd7a96172fee4f7cd5b01fd      great_pyrenees\n",
       "820   142ef9990b3db0d521f87f9133a6b84f  labrador_retriever\n",
       "645   0fc12a365adfcbb603e298b10149632a  miniature_pinscher\n",
       "8491  d530703b353991efcf62e7e10b8f7ee2              collie\n",
       "7308  b72130fb5921d7a8711029fcd1f49e88             whippet"
      ]
     },
     "execution_count": 30,
     "metadata": {},
     "output_type": "execute_result"
    }
   ],
   "source": [
    "labels_raw = pd.read_csv(\"labels.csv.zip\", compression='zip', header=0, sep=',', quotechar='\"')\n",
    "# labels 압축파일을 가지고 온다\n",
    "\n",
    "#랜덤하게 5개를 뽑아본다\n",
    "labels_raw.sample(5)"
   ]
  },
  {
   "cell_type": "markdown",
   "metadata": {},
   "source": [
    "# 코드 만든 개발자의 조언\n",
    "### We will reduce the data base so that we can reduce the complexity of our model. In addition, it will help for the calculation as there will be only N breeds to classify. We will be able to easily run the model in less than 10 minutes.\n",
    "\n",
    "#### 프로젝트 설명을 보면 120종의 강아지가 있다고 되어있지만 코드를 짠 개발자는 복잡성도 줄이고 시간도 적게 들게 하기 위해 데이터베이스를 줄이려는 생각같다\n"
   ]
  },
  {
   "cell_type": "code",
   "execution_count": 31,
   "metadata": {},
   "outputs": [
    {
     "name": "stdout",
     "output_type": "stream",
     "text": [
      "- Number of images remaining after selecting the 5 main breeds : (588,)\n",
      "- The shape of train_filtered dataset is : (588, 60, 60, 3)\n"
     ]
    }
   ],
   "source": [
    "Nber_of_breeds = 5\n",
    "# 8개의 breed\n",
    "# 아래 함수는 원래 breed는 120종이고 train,test 데이터도 120종의 강아지사진들이 들어있다 하지만 계산량과 시간을 고려해서\n",
    "# 줄이는게 이 코드 개발자의 목적이였고 분별하려는 breeds수에 맞게 데이터들을 조정하는 함수 같다\n",
    "# 나는 컴퓨터가 안좋기에 5개의 품종만 판별하기로 한다.\n",
    "\n",
    "#######Get the N most represented breeds########\n",
    "def main_breeds(labels_raw, Nber_breeds , all_breeds='TRUE'):\n",
    "    labels_freq_pd = itemfreq(labels_raw[\"breed\"])     \n",
    "    #breeds마다 몇번 나왔는지 카운팅하는 함수, numpy array로 반환한다.\n",
    "    labels_freq_pd = labels_freq_pd[labels_freq_pd[:, 1].argsort()[::-1]] #[::-1] ==> 내림차순 정렬\n",
    "    \n",
    "    if all_breeds == 'FALSE':\n",
    "        main_labels = labels_freq_pd[:,0][0:Nber_breeds]\n",
    "    else: \n",
    "        main_labels = labels_freq_pd[:,0][:]\n",
    "        \n",
    "    labels_raw_np = labels_raw[\"breed\"].as_matrix() #transform in numpy\n",
    "    labels_raw_np = labels_raw_np.reshape(labels_raw_np.shape[0],1)\n",
    "\n",
    "    labels_filtered_index = np.where(labels_raw_np == main_labels)\n",
    "    \n",
    "    return labels_filtered_index\n",
    "\n",
    "labels_filtered_index = main_breeds(labels_raw = labels_raw, Nber_breeds = Nber_of_breeds, all_breeds='FALSE')\n",
    "labels_filtered = labels_raw.iloc[labels_filtered_index[0],:]\n",
    "train_filtered = train[labels_filtered_index[0],:,:,:]\n",
    "\n",
    "print('- Number of images remaining after selecting the {0} main breeds : {1}'.format(Nber_of_breeds, labels_filtered_index[0].shape))\n",
    "print('- The shape of train_filtered dataset is : {0}'.format(train_filtered.shape))"
   ]
  },
  {
   "cell_type": "markdown",
   "metadata": {},
   "source": [
    "이렇게 해서 처음에 10222개의 120종 강아지 사진이 5개의 품종에 맞춰 다시 셋팅했더니 588개의 강아지 사진으로 줄어들었다."
   ]
  },
  {
   "cell_type": "code",
   "execution_count": 36,
   "metadata": {},
   "outputs": [
    {
     "data": {
      "image/png": "[encoded data removed]",
      "text/plain": [
       "<Figure size 432x288 with 1 Axes>"
      ]
     },
     "metadata": {},
     "output_type": "display_data"
    }
   ],
   "source": [
    "lum_img = train_filtered[216,:,:,:]\n",
    "plt.imshow(lum_img)\n",
    "plt.show()\n",
    "# 우리가 다시 분류한 데이터에서 하나를 뽑아보자"
   ]
  },
  {
   "cell_type": "markdown",
   "metadata": {},
   "source": [
    "### one_hot_encoding"
   ]
  },
  {
   "cell_type": "code",
   "execution_count": 38,
   "metadata": {},
   "outputs": [
    {
     "data": {
      "text/plain": [
       "(588, 1)"
      ]
     },
     "execution_count": 38,
     "metadata": {},
     "output_type": "execute_result"
    }
   ],
   "source": [
    "labels = labels_filtered[\"breed\"].as_matrix()\n",
    "labels = labels.reshape(labels.shape[0],1) \n",
    "labels.shape"
   ]
  },
  {
   "cell_type": "code",
   "execution_count": 39,
   "metadata": {},
   "outputs": [],
   "source": [
    "#본격적으로 one-hot-label하는 함수\n",
    "\n",
    "def matrix_Bin(labels):\n",
    "    labels_bin=np.array([])\n",
    "\n",
    "    labels_name, labels0 = np.unique(labels, return_inverse=True)\n",
    "    labels0\n",
    "    \n",
    "    for _, i in enumerate(itemfreq(labels0)[:,0].astype(int)):\n",
    "        labels_bin0 = np.where(labels0 == itemfreq(labels0)[:,0][i], 1., 0.)\n",
    "        labels_bin0 = labels_bin0.reshape(1,labels_bin0.shape[0])\n",
    "\n",
    "        if (labels_bin.shape[0] == 0):\n",
    "            labels_bin = labels_bin0\n",
    "        else:\n",
    "            labels_bin = np.concatenate((labels_bin,labels_bin0 ),axis=0)\n",
    "\n",
    "    print(\"Nber SubVariables {0}\".format(itemfreq(labels0)[:,0].shape[0]))\n",
    "    labels_bin = labels_bin.transpose()\n",
    "    print(\"Shape : {0}\".format(labels_bin.shape))\n",
    "    \n",
    "    return labels_name, labels_bin"
   ]
  },
  {
   "cell_type": "code",
   "execution_count": 43,
   "metadata": {},
   "outputs": [
    {
     "name": "stdout",
     "output_type": "stream",
     "text": [
      "Nber SubVariables 5\n",
      "Shape : (588, 5)\n"
     ]
    },
    {
     "data": {
      "text/plain": [
       "array([[0., 0., 0., 0., 1.],\n",
       "       [0., 0., 0., 1., 0.],\n",
       "       [0., 0., 0., 0., 1.],\n",
       "       [0., 0., 1., 0., 0.],\n",
       "       [0., 0., 1., 0., 0.],\n",
       "       [0., 0., 0., 1., 0.],\n",
       "       [0., 1., 0., 0., 0.],\n",
       "       [0., 0., 1., 0., 0.],\n",
       "       [1., 0., 0., 0., 0.],\n",
       "       [0., 0., 0., 0., 1.]])"
      ]
     },
     "execution_count": 43,
     "metadata": {},
     "output_type": "execute_result"
    }
   ],
   "source": [
    "labels_name, labels_bin = matrix_Bin(labels = labels)\n",
    "labels_bin[0:10]"
   ]
  },
  {
   "cell_type": "markdown",
   "metadata": {},
   "source": [
    "위의 값은 one-hot-encoding된 값을들 0~10까지 print한 값입니다"
   ]
  },
  {
   "cell_type": "code",
   "execution_count": 44,
   "metadata": {},
   "outputs": [
    {
     "name": "stdout",
     "output_type": "stream",
     "text": [
      "Breed 0 : afghan_hound\n",
      "Breed 1 : bernese_mountain_dog\n",
      "Breed 2 : entlebucher\n",
      "Breed 3 : maltese_dog\n",
      "Breed 4 : scottish_deerhound\n"
     ]
    }
   ],
   "source": [
    "for breed in range(len(labels_name)):\n",
    "    print('Breed {0} : {1}'.format(breed,labels_name[breed]))\n",
    "#우리는 5개의 품종을 구별하기로 했는데 무엇인지 보기 위한 코드이다"
   ]
  },
  {
   "cell_type": "code",
   "execution_count": 45,
   "metadata": {},
   "outputs": [
    {
     "data": {
      "text/plain": [
       "array([['scottish_deerhound'],\n",
       "       ['maltese_dog'],\n",
       "       ['scottish_deerhound'],\n",
       "       ['entlebucher'],\n",
       "       ['entlebucher'],\n",
       "       ['maltese_dog'],\n",
       "       ['bernese_mountain_dog'],\n",
       "       ['entlebucher'],\n",
       "       ['afghan_hound'],\n",
       "       ['scottish_deerhound']], dtype=object)"
      ]
     },
     "execution_count": 45,
     "metadata": {},
     "output_type": "execute_result"
    }
   ],
   "source": [
    "labels[0:10]"
   ]
  },
  {
   "cell_type": "code",
   "execution_count": 47,
   "metadata": {},
   "outputs": [
    {
     "data": {
      "text/plain": [
       "'scottish_deerhound'"
      ]
     },
     "execution_count": 47,
     "metadata": {},
     "output_type": "execute_result"
    }
   ],
   "source": [
    "labels_cls = np.argmax(labels_bin, axis=1)\n",
    "labels_name[labels_cls[2]]\n",
    "#labels의 3번째 one-hot-encoding값에 해당하는 품종이 무엇인지 본다, argmax를 사용할때 axis=1이면 행에서 가장 큰값, 0이면 해당 열에서 가장 큰 값을 가져온다"
   ]
  },
  {
   "cell_type": "code",
   "execution_count": 54,
   "metadata": {},
   "outputs": [
    {
     "name": "stdout",
     "output_type": "stream",
     "text": [
      "scottish_deerhound\n"
     ]
    },
    {
     "data": {
      "image/png": "[encoded data removed]",
      "text/plain": [
       "<Figure size 432x288 with 1 Axes>"
      ]
     },
     "metadata": {},
     "output_type": "display_data"
    }
   ],
   "source": [
    "i=9\n",
    "print(labels_name[labels_cls[i]])\n",
    "lum_img = train_filtered[i,:,:,:]\n",
    "plt.imshow(lum_img)\n",
    "plt.show()\n",
    "# 10번째 해당하는 값의 사진을 출력해본다"
   ]
  },
  {
   "cell_type": "markdown",
   "metadata": {},
   "source": [
    "# 지금까지는 전처리하는 과정이고, 이제부터 CNN구조로 들어간다.\n"
   ]
  },
  {
   "cell_type": "markdown",
   "metadata": {},
   "source": [
    "### train데이터를 나눌것이다. 보통 train,test데이터를 각각 다시 validation을 포함하도록 나눈다. \n",
    "### 여기선 30%비율로 나눌것이다"
   ]
  },
  {
   "cell_type": "code",
   "execution_count": 62,
   "metadata": {},
   "outputs": [
    {
     "name": "stdout",
     "output_type": "stream",
     "text": [
      "(411, 60, 60, 3)\n",
      "(177, 60, 60, 3)\n"
     ]
    }
   ],
   "source": [
    "num_validation = 0.30\n",
    "# 30% 비율\n",
    "X_train, X_validation, y_train, y_validation = train_test_split(train_filtered, labels_bin, test_size=num_validation, random_state=6)\n",
    "\n",
    "print(X_train.shape)\n",
    "print(X_validation.shape)\n",
    "# X_train와 X_validation을 합하면 588이 나옵니다"
   ]
  },
  {
   "cell_type": "code",
   "execution_count": 64,
   "metadata": {},
   "outputs": [
    {
     "data": {
      "text/plain": [
       "array([1, 2, 3, 2, 3, 4, 3, 2, 0], dtype=int64)"
      ]
     },
     "execution_count": 64,
     "metadata": {},
     "output_type": "execute_result"
    }
   ],
   "source": [
    "df_validation_toPred_cls = np.argmax(y_validation, axis=1)\n",
    "df_validation_toPred_cls[0:9]\n"
   ]
  },
  {
   "cell_type": "code",
   "execution_count": 65,
   "metadata": {},
   "outputs": [
    {
     "name": "stdout",
     "output_type": "stream",
     "text": [
      "maltese_dog\n",
      "3\n"
     ]
    },
    {
     "data": {
      "image/png": "[encoded data removed]",
      "text/plain": [
       "<Figure size 432x288 with 1 Axes>"
      ]
     },
     "metadata": {},
     "output_type": "display_data"
    }
   ],
   "source": [
    "i=2\n",
    "print(labels_name[df_validation_toPred_cls[i]])\n",
    "print(df_validation_toPred_cls[i])\n",
    "lum_img = X_validation[i,:,:,:]\n",
    "plt.imshow(lum_img)\n",
    "plt.show()"
   ]
  },
  {
   "cell_type": "code",
   "execution_count": 66,
   "metadata": {},
   "outputs": [],
   "source": [
    "img_size = image_resize\n",
    "\n",
    "\n",
    "num_channels = 3\n",
    "\n",
    "#affine구조를 만들기위해 size*size를 해서 1차원 배열을 만들것이다\n",
    "img_size_flat = img_size * img_size\n",
    "\n",
    "\n",
    "img_shape = (img_size, img_size, num_channels)\n",
    "\n",
    "# 5 breeds\n",
    "num_classes = Nber_of_breeds"
   ]
  },
  {
   "cell_type": "code",
   "execution_count": 67,
   "metadata": {},
   "outputs": [],
   "source": [
    "def new_weights(shape):\n",
    "    return tf.Variable(tf.truncated_normal(shape, stddev=0.05))\n",
    "# tf.truncated_normal()는 평균에서 표준편차 이상의 값은 생성하지 않는다\n",
    "\n",
    "def new_biases(length):\n",
    "    return tf.Variable(tf.constant(0.05, shape=[length]))\n",
    "# tf.constant(value, dtype=None, shape=None, name='Const') "
   ]
  },
  {
   "cell_type": "code",
   "execution_count": 68,
   "metadata": {},
   "outputs": [],
   "source": [
    "def new_conv_layer(input,              # input으로 전 layer를 받는다\n",
    "                   num_input_channels, # 전 layer의 channel수를 받는다\n",
    "                   filter_size,        # 필터 size\n",
    "                   num_filters,        # 필터 갯수\n",
    "                   use_pooling=True,   # pooling 사용여부, 2x2 max pooling사용\n",
    "                   use_dropout=True):  # dropout 사용여부\n",
    "\n",
    "    shape = [filter_size, filter_size, num_input_channels, num_filters]\n",
    "\n",
    "\n",
    "    weights = new_weights(shape=shape)      # 초기 가중치를 설정(좋은 학습을 위해서)\n",
    "    biases = new_biases(length=num_filters) # 초기 bias를 설정 (좋은 학습을 위해서)\n",
    "\n",
    "\n",
    "    layer = tf.nn.conv2d(input=input,\n",
    "                         filter=weights,\n",
    "                         strides=[1, 1, 1, 1],\n",
    "                         padding='SAME')\n",
    "\n",
    "    \n",
    "    layer += biases\n",
    "\n",
    "    \n",
    "    if use_pooling:\n",
    "        # 만약 pooling을 사용한다면 : 2x2 max_pooling을 사용 1,2,2,1 중 가운데 2,2가 2x2에 해당\n",
    "        layer = tf.nn.max_pool(value=layer,\n",
    "                               ksize=[1, 2, 2, 1],\n",
    "                               strides=[1, 2, 2, 1],\n",
    "                               padding='SAME')\n",
    "\n",
    "    layer = tf.nn.relu(layer)  # 활성함수로 LeRU를 사용한다\n",
    "    \n",
    "    if use_dropout:\n",
    "        layer = tf.nn.dropout(layer,keep_prob_conv)\n",
    "        \n",
    "    return layer, weights"
   ]
  },
  {
   "cell_type": "code",
   "execution_count": 69,
   "metadata": {},
   "outputs": [],
   "source": [
    "# 다음은 맨 마지막에 softmax를 쓰기 위해서는 평평하게 만드는, 즉, 데이터를 1차원으로 쭉 나열하는 과정이 필요하다\n",
    "\n",
    "def flatten_layer(layer):\n",
    "    # 매개변수로 전달받은  layer의 shape를 알아본다\n",
    "    layer_shape = layer.get_shape()\n",
    "    \n",
    "    # layer_shape == [num_images, img_height, img_width, num_channels]\n",
    "    # The number of features = img_height * img_width * num_channels\n",
    "    # We can use a function from TensorFlow to calculate this.\n",
    "    # layer_shape[1]은 height, [2]은 width, [3]은 channels이다 \n",
    "    num_features = layer_shape[1:4].num_elements()\n",
    "    \n",
    "    \n",
    "    layer_flat = tf.reshape(layer, [-1, num_features])\n",
    "\n",
    "    # 이렇게 해서 현재 feature의 shape은 아래의 형태이다\n",
    "    # [num_images, img_height * img_width * num_channels]\n",
    "\n",
    "    # layer_flat와 이미지갯수를 return한다\n",
    "    return layer_flat, num_features"
   ]
  },
  {
   "cell_type": "code",
   "execution_count": 70,
   "metadata": {},
   "outputs": [],
   "source": [
    "#softmax를 쓰기위한 fully_connected_layer이다.\n",
    "\n",
    "def new_fc_layer(input,          \n",
    "                 num_inputs,     \n",
    "                 num_outputs,    \n",
    "                 use_relu=True,\n",
    "                 use_dropout=True): \n",
    "\n",
    "    \n",
    "    weights = new_weights(shape=[num_inputs, num_outputs])\n",
    "    biases = new_biases(length=num_outputs)\n",
    "\n",
    "    # 벡터내적곱의 연산과 bias를 더해준다. \n",
    "    layer = tf.matmul(input, weights) + biases\n",
    "\n",
    "    \n",
    "    if use_relu:\n",
    "        layer = tf.nn.relu(layer)\n",
    "    \n",
    "    if use_dropout:\n",
    "        layer = tf.nn.dropout(layer,keep_prob_fc)\n",
    "        \n",
    "    return layer"
   ]
  },
  {
   "cell_type": "markdown",
   "metadata": {},
   "source": [
    "# 이제 CNN을 돌리기 위해 placeholder를 선언해 준다.(텐서플로우의 방식)"
   ]
  },
  {
   "cell_type": "code",
   "execution_count": 71,
   "metadata": {},
   "outputs": [],
   "source": [
    "x = tf.placeholder(tf.float32, shape=[None, img_size, img_size, num_channels], name='x')\n",
    "x_image = tf.reshape(x, [-1, img_size, img_size, num_channels]) #-1 put everything as 1 array\n",
    "y_true = tf.placeholder(tf.float32, shape=[None, num_classes], name='y_true')\n",
    "y_true_cls = tf.argmax(y_true, axis=1)\n",
    "keep_prob_fc=tf.placeholder(tf.float32)\n",
    "keep_prob_conv=tf.placeholder(tf.float32)"
   ]
  },
  {
   "cell_type": "markdown",
   "metadata": {},
   "source": [
    "# 필터 사이즈, 갯수, FC_layer의 node수 등 설정"
   ]
  },
  {
   "cell_type": "code",
   "execution_count": 77,
   "metadata": {},
   "outputs": [],
   "source": [
    "# Convolutional Layer 1.\n",
    "filter_size1 = 4          # Convolution filters are 4 x 4 pixels.\n",
    "num_filters1 = 64         \n",
    "\n",
    "# Convolutional Layer 2.\n",
    "filter_size2 = 2          # Convolution filters are 2 x 2 pixels.\n",
    "num_filters2 = 128        \n",
    "\n",
    "\n",
    "# Fully-connected layer.\n",
    "fc_size = 100"
   ]
  },
  {
   "cell_type": "code",
   "execution_count": 78,
   "metadata": {},
   "outputs": [],
   "source": [
    "layer_conv1, weights_conv1 = \\\n",
    "    new_conv_layer(input=x_image,\n",
    "                   num_input_channels=num_channels,\n",
    "                   filter_size=filter_size1,\n",
    "                   num_filters=num_filters1,\n",
    "                   use_pooling=True,\n",
    "                   use_dropout=False)\n",
    "    \n",
    "layer_conv2, weights_conv2 = \\\n",
    "    new_conv_layer(input=layer_conv1,\n",
    "                   num_input_channels=num_filters1,\n",
    "                   filter_size=filter_size2,\n",
    "                   num_filters=num_filters2,\n",
    "                   use_pooling=True,\n",
    "                   use_dropout=True)\n"
   ]
  },
  {
   "cell_type": "code",
   "execution_count": 79,
   "metadata": {},
   "outputs": [],
   "source": [
    "layer_flat, num_features = flatten_layer(layer_conv2)"
   ]
  },
  {
   "cell_type": "code",
   "execution_count": 80,
   "metadata": {},
   "outputs": [
    {
     "data": {
      "text/plain": [
       "<tf.Tensor 'add_6:0' shape=(?, 5) dtype=float32>"
      ]
     },
     "execution_count": 80,
     "metadata": {},
     "output_type": "execute_result"
    }
   ],
   "source": [
    "#Train\n",
    "\n",
    "layer_fc1 = new_fc_layer(input=layer_flat,\n",
    "                         num_inputs=num_features,\n",
    "                         num_outputs=fc_size,\n",
    "                         use_relu=True,\n",
    "                         use_dropout=True)\n",
    "\n",
    "layer_fc1\n",
    "\n",
    "layer_fc2 = new_fc_layer(input=layer_fc1,\n",
    "                         num_inputs=fc_size,\n",
    "                         num_outputs=num_classes,\n",
    "                         use_relu=False,\n",
    "                         use_dropout=False)\n",
    "\n",
    "layer_fc2"
   ]
  },
  {
   "cell_type": "code",
   "execution_count": 81,
   "metadata": {},
   "outputs": [],
   "source": [
    "#Prediction :\n",
    "y_pred = tf.nn.softmax(layer_fc2)\n",
    "y_pred_cls = tf.argmax(y_pred, axis=1)"
   ]
  },
  {
   "cell_type": "markdown",
   "metadata": {},
   "source": [
    "# CNN의 cost function = loss를 정의한다 ( cross_entropy)"
   ]
  },
  {
   "cell_type": "code",
   "execution_count": 83,
   "metadata": {},
   "outputs": [],
   "source": [
    "cross_entropy = tf.nn.softmax_cross_entropy_with_logits_v2(logits=layer_fc2,\n",
    "                                                        labels=y_true)\n",
    "cost = tf.reduce_mean(cross_entropy)\n",
    "\n",
    "optimizer = tf.train.AdamOptimizer(learning_rate=1e-4).minimize(cost)\n",
    "correct_prediction = tf.equal(y_pred_cls, y_true_cls)\n",
    "accuracy = tf.reduce_mean(tf.cast(correct_prediction, tf.float32))"
   ]
  },
  {
   "cell_type": "markdown",
   "metadata": {},
   "source": [
    "# 지금까지는 코드를 정의한것이고 이제 Session을 활성시켜 코드를 돌려볼 차례이다"
   ]
  },
  {
   "cell_type": "code",
   "execution_count": 84,
   "metadata": {},
   "outputs": [],
   "source": [
    "session = tf.Session()\n",
    "\n",
    "def init_variables():\n",
    "    session.run(tf.global_variables_initializer())"
   ]
  },
  {
   "cell_type": "code",
   "execution_count": 85,
   "metadata": {},
   "outputs": [],
   "source": [
    "batch_size = 50\n",
    "#batch_size는 한번에 몇개씩 학습할 것인가를 말한다 50개씩 가져온다.\n",
    "#next_batch는 다음 batch를 가져오는 함수이다. 랜덤하게 가져온다.\n",
    "def next_batch(num, data, labels):\n",
    "    \n",
    "    \n",
    "    idx = np.arange(0 , len(data))\n",
    "    np.random.shuffle(idx)\n",
    "    idx = idx[:num]\n",
    "    data_shuffle = [data[i] for i in idx]\n",
    "    labels_shuffle = [labels[i] for i in idx]\n",
    "\n",
    "    return np.asarray(data_shuffle), np.asarray(labels_shuffle)"
   ]
  },
  {
   "cell_type": "code",
   "execution_count": 89,
   "metadata": {},
   "outputs": [],
   "source": [
    "# 최적화 함수이다\n",
    "\n",
    "def optimize(epoch, X):\n",
    "    global t_epoch\n",
    "    \n",
    "    start_time = time.time()\n",
    "    \n",
    "    #array to plot\n",
    "    losses = {'train':[], 'validation':[]}\n",
    "    \n",
    "    #epoch은 쉽게 설명하면 100문제의 모의고사1회가 있는데 batch_size=10으로 하면 한번 문제를 풀때 10문제씩 푼다는 소리이고\n",
    "    #10문제씩 10번이면 100문제로 모의고사1회가 끝난다, batch_size =10을 10번 반복하면 한 사이클이 끝나는데 이것을 epoch이 1이다라고 한다.\n",
    "    #epoch을 설정해서 이 작업을 계속 반복시킨다.\n",
    "    for i in range(epoch):\n",
    "            t_epoch += 1\n",
    "            \n",
    "            \n",
    "            x_batch, y_true_batch = next_batch(batch_size, X_train, y_train)\n",
    "\n",
    "        \n",
    "            feed_dict_train = {x: x_batch,\n",
    "                               y_true: y_true_batch,\n",
    "                               keep_prob_conv : 0.7,\n",
    "                               keep_prob_fc : 0.7}\n",
    "            # keep_prob_conv : 0.7이란 소리는 conv_layer에서 70%의 노드를 활성화 한다는 것이다, overfitting을 막기 위해 사용한다.\n",
    "            # Keep_prob_fc는 fully_connected_layer에서 사용하는 drop_out비율이다.\n",
    "            \n",
    "            feed_dict_validation = {x: X_validation,\n",
    "                               y_true: y_validation,\n",
    "                               keep_prob_conv : 1,\n",
    "                               keep_prob_fc : 1}\n",
    "            \n",
    "            # session을 run하고 실행한다\n",
    "            session.run(optimizer, feed_dict=feed_dict_train)\n",
    "            \n",
    "            acc_train = session.run(accuracy, feed_dict=feed_dict_train)\n",
    "            acc_validation = session.run(accuracy, feed_dict=feed_dict_validation)\n",
    "            losses['train'].append(acc_train)\n",
    "            losses['validation'].append(acc_validation)\n",
    "            \n",
    "            # t_epoch을 X로 나누었을 때 0이 될 때마다 정확도를 출력한다. \n",
    "            if (t_epoch % X == 0) or (i ==(epoch -1)):\n",
    "            \n",
    "                                \n",
    "                msg = \"Iteration: {0:>6}, Training Accuracy: {1:>6.1%}, Validation Accuracy: {2:>6.1%}\"\n",
    "                print(msg.format(t_epoch, acc_train, acc_validation))\n",
    "                \n",
    "                \n",
    "    end_time = time.time()\n",
    "\n",
    "    \n",
    "    time_dif = end_time - start_time\n",
    "\n",
    "    \n",
    "    print(\"Time usage: \" + str(timedelta(seconds=int(round(time_dif)))))\n",
    "    \n",
    "    plt.plot(losses['train'], label='Training loss')\n",
    "    plt.plot(losses['validation'], label='Validation loss')\n",
    "    plt.legend()\n",
    "    _ = plt.ylim()"
   ]
  },
  {
   "cell_type": "code",
   "execution_count": 90,
   "metadata": {},
   "outputs": [],
   "source": [
    "init_variables()\n",
    "t_epoch = 0"
   ]
  },
  {
   "cell_type": "code",
   "execution_count": 91,
   "metadata": {},
   "outputs": [
    {
     "name": "stdout",
     "output_type": "stream",
     "text": [
      "Iteration:    250, Training Accuracy:  60.0%, Validation Accuracy:  51.4%\n",
      "Iteration:    500, Training Accuracy:  88.0%, Validation Accuracy:  61.0%\n",
      "Iteration:    750, Training Accuracy:  94.0%, Validation Accuracy:  57.6%\n",
      "Iteration:   1000, Training Accuracy: 100.0%, Validation Accuracy:  59.9%\n",
      "Iteration:   1250, Training Accuracy:  94.0%, Validation Accuracy:  58.2%\n",
      "Iteration:   1500, Training Accuracy: 100.0%, Validation Accuracy:  58.8%\n",
      "Time usage: 0:42:26\n"
     ]
    },
    {
     "data": {
      "image/png": "[encoded data removed]",
      "text/plain": [
       "<Figure size 432x288 with 1 Axes>"
      ]
     },
     "metadata": {},
     "output_type": "display_data"
    }
   ],
   "source": [
    "optimize(epoch=1500, X=250)"
   ]
  },
  {
   "cell_type": "markdown",
   "metadata": {},
   "source": [
    "# 결과\n",
    "### 캐글에 공개된 코드는 epoch: 3000, breeds =8, 이미지 대략900개를 사용했고\n",
    "### training accuracy: 88% , validation accuracy : 40%가 나왔다\n",
    "\n",
    "### 나는 컴퓨터가 안좋기 때문에 epoch : 1500, breeds =5 , 이미지 588개를 사용했다\n",
    "### 그리고 conv층도 2개로 아주 간단하게 사용하였다. \n",
    "### 결과는 training Acc : 100%(오버피팅), validation Acc : 58.8%가 나왔다\n",
    "### training은 오버피팅이 되어 버렸지만, validation은 40보다 18.8% 높게 나왔다.\n",
    "### 오버피팅도 막고 정확도를 높일 수 있는 방법을 생각해보면\n",
    "#### 1. 더 많은 데이터셋을 사용한다.\n",
    "#### 2. 적당한 learning rate를 찾고, dropout비율도 찾는다.\n",
    "#### 3. 전처리를 더 잘한다.\n",
    "#### 4. 시작하기전 Weight, Bias를 적절하게 설정한다.\n",
    "#### 5. 정규화를 잘한다\n",
    "#### 6. 중복되는 데이터를 지운다\n",
    "#### 등등 아주 많은 방법이 있다 (노가다를 해야한다)\n"
   ]
  },
  {
   "cell_type": "code",
   "execution_count": null,
   "metadata": {},
   "outputs": [],
   "source": []
  }
 ],
 "metadata": {
  "kernelspec": {
   "display_name": "Python [conda env:tensorflow]",
   "language": "python",
   "name": "conda-env-tensorflow-py"
  },
  "language_info": {
   "codemirror_mode": {
    "name": "ipython",
    "version": 3
   },
   "file_extension": ".py",
   "mimetype": "text/x-python",
   "name": "python",
   "nbconvert_exporter": "python",
   "pygments_lexer": "ipython3",
   "version": "3.6.4"
  }
 },
 "nbformat": 4,
 "nbformat_minor": 2
}
