{
 "cells": [
  {
   "cell_type": "markdown",
   "metadata": {},
   "source": [
    "# 퍼셉트론이란?\n"
   ]
  },
  {
   "cell_type": "markdown",
   "metadata": {},
   "source": [
    "퍼셉트론은 다수의 신호를 입력으로 받아 하나의 신호를 출력한다. 여기서 신호란 전류나 강물처럼 흐름이 있는 것이라고 생각하면 좋다\n",
    "퍼셉트론은 1,0 또는 1,-1을 output으로 내보낸다."
   ]
  },
  {
   "cell_type": "markdown",
   "metadata": {},
   "source": [
    "![Image of Yaktocat](data:image/jpeg;base64,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)"
   ]
  },
  {
   "cell_type": "markdown",
   "metadata": {},
   "source": [
    "그림의 원을 뉴런 혹은 노드라고 부른다. 입력 신호가 뉴런에 보내질 때는 각각 고유한 가중치(w1,w2)가 곱해진다.\n",
    "뉴런에서 보내온 신호의 총합이 정해진 한계를 넘어설 때에만 1을 출력한다.(활성화 함수를 사용한다. 종류로는 sigmoid, ReLU 등등)\n",
    ",그 한계를 임계값이라 하고 기호는 세타를 쓴다."
   ]
  },
  {
   "cell_type": "markdown",
   "metadata": {},
   "source": [
    "![Image of Yaktocat](http://cfile9.uf.tistory.com/image/230C5A3B591DF0ED1B9BF7)"
   ]
  },
  {
   "cell_type": "markdown",
   "metadata": {},
   "source": [
    "x값이 여러개 있는 퍼셉트론이다. , Bias는 편향이라고 부른다."
   ]
  },
  {
   "cell_type": "markdown",
   "metadata": {},
   "source": [
    "임계값을 넘어서 output이 1을 출력하면 다음 노드로 보내진다. 즉 신호가 필요해서 살렸다는 소리이다."
   ]
  },
  {
   "cell_type": "markdown",
   "metadata": {},
   "source": [
    "#  2.3 아이리스 데이터에 퍼셉트론 모델 훈련하기"
   ]
  },
  {
   "cell_type": "code",
   "execution_count": 3,
   "metadata": {},
   "outputs": [
    {
     "data": {
      "text/html": [
       "<div>\n",
       "<style scoped>\n",
       "    .dataframe tbody tr th:only-of-type {\n",
       "        vertical-align: middle;\n",
       "    }\n",
       "\n",
       "    .dataframe tbody tr th {\n",
       "        vertical-align: top;\n",
       "    }\n",
       "\n",
       "    .dataframe thead th {\n",
       "        text-align: right;\n",
       "    }\n",
       "</style>\n",
       "<table border=\"1\" class=\"dataframe\">\n",
       "  <thead>\n",
       "    <tr style=\"text-align: right;\">\n",
       "      <th></th>\n",
       "      <th>0</th>\n",
       "      <th>1</th>\n",
       "      <th>2</th>\n",
       "      <th>3</th>\n",
       "      <th>4</th>\n",
       "    </tr>\n",
       "  </thead>\n",
       "  <tbody>\n",
       "    <tr>\n",
       "      <th>145</th>\n",
       "      <td>6.7</td>\n",
       "      <td>3.0</td>\n",
       "      <td>5.2</td>\n",
       "      <td>2.3</td>\n",
       "      <td>Iris-virginica</td>\n",
       "    </tr>\n",
       "    <tr>\n",
       "      <th>146</th>\n",
       "      <td>6.3</td>\n",
       "      <td>2.5</td>\n",
       "      <td>5.0</td>\n",
       "      <td>1.9</td>\n",
       "      <td>Iris-virginica</td>\n",
       "    </tr>\n",
       "    <tr>\n",
       "      <th>147</th>\n",
       "      <td>6.5</td>\n",
       "      <td>3.0</td>\n",
       "      <td>5.2</td>\n",
       "      <td>2.0</td>\n",
       "      <td>Iris-virginica</td>\n",
       "    </tr>\n",
       "    <tr>\n",
       "      <th>148</th>\n",
       "      <td>6.2</td>\n",
       "      <td>3.4</td>\n",
       "      <td>5.4</td>\n",
       "      <td>2.3</td>\n",
       "      <td>Iris-virginica</td>\n",
       "    </tr>\n",
       "    <tr>\n",
       "      <th>149</th>\n",
       "      <td>5.9</td>\n",
       "      <td>3.0</td>\n",
       "      <td>5.1</td>\n",
       "      <td>1.8</td>\n",
       "      <td>Iris-virginica</td>\n",
       "    </tr>\n",
       "  </tbody>\n",
       "</table>\n",
       "</div>"
      ],
      "text/plain": [
       "       0    1    2    3               4\n",
       "145  6.7  3.0  5.2  2.3  Iris-virginica\n",
       "146  6.3  2.5  5.0  1.9  Iris-virginica\n",
       "147  6.5  3.0  5.2  2.0  Iris-virginica\n",
       "148  6.2  3.4  5.4  2.3  Iris-virginica\n",
       "149  5.9  3.0  5.1  1.8  Iris-virginica"
      ]
     },
     "execution_count": 3,
     "metadata": {},
     "output_type": "execute_result"
    }
   ],
   "source": [
    "import pandas as pd\n",
    "df = pd.read_csv('https://archive.ics.uci.edu/ml/'\n",
    "                'machine-learning-databases/iris/iris.data',header=None)\n",
    "df.tail()\n",
    "#판다 라이브러리를 사용해 iris데이터를 불러온다."
   ]
  },
  {
   "cell_type": "markdown",
   "metadata": {},
   "source": [
    "이제 앞에서부터 50개의  Iris-Setosa와 50개의 Iris-Versicolor에 해당하는 분류 레이블을 추출하여 각각을 1(Versicolor)와 -1(Setosa)로 변환한다"
   ]
  },
  {
   "cell_type": "code",
   "execution_count": 4,
   "metadata": {},
   "outputs": [],
   "source": [
    "import matplotlib.pyplot as plt\n",
    "import numpy as np\n",
    "y = df.iloc[0:100, 4].values"
   ]
  },
  {
   "cell_type": "code",
   "execution_count": 5,
   "metadata": {},
   "outputs": [
    {
     "name": "stdout",
     "output_type": "stream",
     "text": [
      "['Iris-setosa' 'Iris-setosa' 'Iris-setosa' 'Iris-setosa' 'Iris-setosa'\n",
      " 'Iris-setosa' 'Iris-setosa' 'Iris-setosa' 'Iris-setosa' 'Iris-setosa'\n",
      " 'Iris-setosa' 'Iris-setosa' 'Iris-setosa' 'Iris-setosa' 'Iris-setosa'\n",
      " 'Iris-setosa' 'Iris-setosa' 'Iris-setosa' 'Iris-setosa' 'Iris-setosa'\n",
      " 'Iris-setosa' 'Iris-setosa' 'Iris-setosa' 'Iris-setosa' 'Iris-setosa'\n",
      " 'Iris-setosa' 'Iris-setosa' 'Iris-setosa' 'Iris-setosa' 'Iris-setosa'\n",
      " 'Iris-setosa' 'Iris-setosa' 'Iris-setosa' 'Iris-setosa' 'Iris-setosa'\n",
      " 'Iris-setosa' 'Iris-setosa' 'Iris-setosa' 'Iris-setosa' 'Iris-setosa'\n",
      " 'Iris-setosa' 'Iris-setosa' 'Iris-setosa' 'Iris-setosa' 'Iris-setosa'\n",
      " 'Iris-setosa' 'Iris-setosa' 'Iris-setosa' 'Iris-setosa' 'Iris-setosa'\n",
      " 'Iris-versicolor' 'Iris-versicolor' 'Iris-versicolor' 'Iris-versicolor'\n",
      " 'Iris-versicolor' 'Iris-versicolor' 'Iris-versicolor' 'Iris-versicolor'\n",
      " 'Iris-versicolor' 'Iris-versicolor' 'Iris-versicolor' 'Iris-versicolor'\n",
      " 'Iris-versicolor' 'Iris-versicolor' 'Iris-versicolor' 'Iris-versicolor'\n",
      " 'Iris-versicolor' 'Iris-versicolor' 'Iris-versicolor' 'Iris-versicolor'\n",
      " 'Iris-versicolor' 'Iris-versicolor' 'Iris-versicolor' 'Iris-versicolor'\n",
      " 'Iris-versicolor' 'Iris-versicolor' 'Iris-versicolor' 'Iris-versicolor'\n",
      " 'Iris-versicolor' 'Iris-versicolor' 'Iris-versicolor' 'Iris-versicolor'\n",
      " 'Iris-versicolor' 'Iris-versicolor' 'Iris-versicolor' 'Iris-versicolor'\n",
      " 'Iris-versicolor' 'Iris-versicolor' 'Iris-versicolor' 'Iris-versicolor'\n",
      " 'Iris-versicolor' 'Iris-versicolor' 'Iris-versicolor' 'Iris-versicolor'\n",
      " 'Iris-versicolor' 'Iris-versicolor' 'Iris-versicolor' 'Iris-versicolor'\n",
      " 'Iris-versicolor' 'Iris-versicolor']\n"
     ]
    }
   ],
   "source": [
    "print(y)"
   ]
  },
  {
   "cell_type": "code",
   "execution_count": 6,
   "metadata": {},
   "outputs": [],
   "source": [
    "y = np.where(y == 'Iris-setosa', -1 ,1)"
   ]
  },
  {
   "cell_type": "code",
   "execution_count": 7,
   "metadata": {},
   "outputs": [
    {
     "name": "stdout",
     "output_type": "stream",
     "text": [
      "[-1 -1 -1 -1 -1 -1 -1 -1 -1 -1 -1 -1 -1 -1 -1 -1 -1 -1 -1 -1 -1 -1 -1 -1\n",
      " -1 -1 -1 -1 -1 -1 -1 -1 -1 -1 -1 -1 -1 -1 -1 -1 -1 -1 -1 -1 -1 -1 -1 -1\n",
      " -1 -1  1  1  1  1  1  1  1  1  1  1  1  1  1  1  1  1  1  1  1  1  1  1\n",
      "  1  1  1  1  1  1  1  1  1  1  1  1  1  1  1  1  1  1  1  1  1  1  1  1\n",
      "  1  1  1  1]\n"
     ]
    }
   ],
   "source": [
    "print(y)"
   ]
  },
  {
   "cell_type": "code",
   "execution_count": 8,
   "metadata": {},
   "outputs": [],
   "source": [
    "X = df.iloc[0:100, [0,2]].values"
   ]
  },
  {
   "cell_type": "code",
   "execution_count": 9,
   "metadata": {},
   "outputs": [
    {
     "name": "stdout",
     "output_type": "stream",
     "text": [
      "[[5.1 1.4]\n",
      " [4.9 1.4]\n",
      " [4.7 1.3]\n",
      " [4.6 1.5]\n",
      " [5.  1.4]\n",
      " [5.4 1.7]\n",
      " [4.6 1.4]\n",
      " [5.  1.5]\n",
      " [4.4 1.4]\n",
      " [4.9 1.5]\n",
      " [5.4 1.5]\n",
      " [4.8 1.6]\n",
      " [4.8 1.4]\n",
      " [4.3 1.1]\n",
      " [5.8 1.2]\n",
      " [5.7 1.5]\n",
      " [5.4 1.3]\n",
      " [5.1 1.4]\n",
      " [5.7 1.7]\n",
      " [5.1 1.5]\n",
      " [5.4 1.7]\n",
      " [5.1 1.5]\n",
      " [4.6 1. ]\n",
      " [5.1 1.7]\n",
      " [4.8 1.9]\n",
      " [5.  1.6]\n",
      " [5.  1.6]\n",
      " [5.2 1.5]\n",
      " [5.2 1.4]\n",
      " [4.7 1.6]\n",
      " [4.8 1.6]\n",
      " [5.4 1.5]\n",
      " [5.2 1.5]\n",
      " [5.5 1.4]\n",
      " [4.9 1.5]\n",
      " [5.  1.2]\n",
      " [5.5 1.3]\n",
      " [4.9 1.5]\n",
      " [4.4 1.3]\n",
      " [5.1 1.5]\n",
      " [5.  1.3]\n",
      " [4.5 1.3]\n",
      " [4.4 1.3]\n",
      " [5.  1.6]\n",
      " [5.1 1.9]\n",
      " [4.8 1.4]\n",
      " [5.1 1.6]\n",
      " [4.6 1.4]\n",
      " [5.3 1.5]\n",
      " [5.  1.4]\n",
      " [7.  4.7]\n",
      " [6.4 4.5]\n",
      " [6.9 4.9]\n",
      " [5.5 4. ]\n",
      " [6.5 4.6]\n",
      " [5.7 4.5]\n",
      " [6.3 4.7]\n",
      " [4.9 3.3]\n",
      " [6.6 4.6]\n",
      " [5.2 3.9]\n",
      " [5.  3.5]\n",
      " [5.9 4.2]\n",
      " [6.  4. ]\n",
      " [6.1 4.7]\n",
      " [5.6 3.6]\n",
      " [6.7 4.4]\n",
      " [5.6 4.5]\n",
      " [5.8 4.1]\n",
      " [6.2 4.5]\n",
      " [5.6 3.9]\n",
      " [5.9 4.8]\n",
      " [6.1 4. ]\n",
      " [6.3 4.9]\n",
      " [6.1 4.7]\n",
      " [6.4 4.3]\n",
      " [6.6 4.4]\n",
      " [6.8 4.8]\n",
      " [6.7 5. ]\n",
      " [6.  4.5]\n",
      " [5.7 3.5]\n",
      " [5.5 3.8]\n",
      " [5.5 3.7]\n",
      " [5.8 3.9]\n",
      " [6.  5.1]\n",
      " [5.4 4.5]\n",
      " [6.  4.5]\n",
      " [6.7 4.7]\n",
      " [6.3 4.4]\n",
      " [5.6 4.1]\n",
      " [5.5 4. ]\n",
      " [5.5 4.4]\n",
      " [6.1 4.6]\n",
      " [5.8 4. ]\n",
      " [5.  3.3]\n",
      " [5.6 4.2]\n",
      " [5.7 4.2]\n",
      " [5.7 4.2]\n",
      " [6.2 4.3]\n",
      " [5.1 3. ]\n",
      " [5.7 4.1]]\n"
     ]
    }
   ],
   "source": [
    "print(X)"
   ]
  },
  {
   "cell_type": "code",
   "execution_count": 10,
   "metadata": {},
   "outputs": [
    {
     "data": {
      "image/png": "[encoded data removed]",
      "text/plain": [
       "<Figure size 432x288 with 1 Axes>"
      ]
     },
     "metadata": {},
     "output_type": "display_data"
    }
   ],
   "source": [
    "plt.scatter(X[:50,0], X[:50,1],\n",
    "           color='red', marker='o', label='setosa')\n",
    "plt.scatter(X[50:100,0], X[50:100, 1],\n",
    "           color='blue', marker='x', label='versicolor')\n",
    "plt.xlabel('petal length')\n",
    "plt.ylabel('sepal length')\n",
    "plt.legend(loc='upper left')\n",
    "plt.show()"
   ]
  },
  {
   "cell_type": "code",
   "execution_count": 11,
   "metadata": {},
   "outputs": [],
   "source": [
    "class Perceptron(object):\n",
    "    def __init__(self, eta=0.01, n_iter=10):\n",
    "        self.eta = eta\n",
    "        self.n_iter = n_iter\n",
    "        \n",
    "    def fit(self, X, y):\n",
    "        self.w_ = np.zeros(1+X.shape[1])\n",
    "        self.errors_ = []\n",
    "        for _ in range(self.n_iter):\n",
    "            errors = 0\n",
    "            for xi, target in zip(X,y):\n",
    "                update = self.eta*(target - self.predict(xi))\n",
    "                self.w_[1:] += update*xi\n",
    "                self.w_[0] += update\n",
    "                errors += int(update != 0.0)\n",
    "            self.errors_.append(errors)\n",
    "        return self\n",
    "    \n",
    "    def net_input(self, X):\n",
    "        return np.dot(X, self.w_[1:]) + self.w_[0]\n",
    "    \n",
    "    def predict(self, X):\n",
    "        return np.where(self.net_input(X) >= 0.0, 1, -1)\n",
    "    "
   ]
  },
  {
   "cell_type": "markdown",
   "metadata": {},
   "source": [
    "앞에서 추출한 아이리스 데이터의 부분집합에 우리의 퍼셉트론 알고리즘을 훈련시킬 차례다. 또한 알고리즘이 두개의 아이리스 꽃 분류를 나누는 결정 경계를 수렴하여 찾아내었는지 확인하기 위해 각 에포크에 대한 오분류 오차 플롯을 확인해야 한다."
   ]
  },
  {
   "cell_type": "code",
   "execution_count": 12,
   "metadata": {},
   "outputs": [
    {
     "data": {
      "image/png": "[encoded data removed]",
      "text/plain": [
       "<Figure size 432x288 with 1 Axes>"
      ]
     },
     "metadata": {},
     "output_type": "display_data"
    }
   ],
   "source": [
    "ppn = Perceptron(eta = 0.1, n_iter =10)\n",
    "ppn.fit(X,y)\n",
    "plt.plot(range(1, len(ppn.errors_)+1), ppn.errors_,\n",
    "         marker ='o')\n",
    "plt.xlabel('Epochs')\n",
    "plt.ylabel('Number of misclassification')\n",
    "plt.show()"
   ]
  },
  {
   "cell_type": "markdown",
   "metadata": {},
   "source": [
    "Epoch이 6일때부터 misclassification이 0이 되었다. 이제 훈련 샘플을 완벽하게 분류할 수 있을 것이다.\n",
    "이제 2차원 데이터에 대한 결정 경계를 시각화 할 수 있는 작은 편의 함수를 구현해보자."
   ]
  },
  {
   "cell_type": "code",
   "execution_count": 13,
   "metadata": {},
   "outputs": [],
   "source": [
    "from matplotlib.colors import ListedColormap\n"
   ]
  },
  {
   "cell_type": "code",
   "execution_count": 14,
   "metadata": {},
   "outputs": [],
   "source": [
    "def plot_decision_regions(X, y, classifier, resolution=0.02):\n",
    "    markers = ('s', 'x', 'o', '∧','∨')\n",
    "    colors = ('red', 'blue', 'lightgreen', 'gray' , 'cyan')\n",
    "    cmap = ListedColormap(colors[:len(np.unique(y))])\n",
    "    \n",
    "    x1_min , x1_max = X[:,0].min() -1, X[:,0].max() +1\n",
    "    x2_min , x2_max = X[:,1].min() -1, X[:,1].max() +1\n",
    "    xx1, xx2 = np.meshgrid(np.arange(x1_min, x1_max, resolution),\n",
    "                          np.arange(x2_min, x2_max, resolution))\n",
    "    Z = classifier.predict(np.array([xx1.ravel(), xx2.ravel()]).T)\n",
    "    Z = Z.reshape(xx1.shape)\n",
    "    plt.contourf(xx1, xx2, Z, alpha=0.4, cmap=cmap)\n",
    "    plt.xlim(xx1.min(), xx1.max())\n",
    "    plt.ylim(xx2.min(), xx2.max())\n",
    "    \n",
    "    for idx, cl in enumerate(np.unique(y)):\n",
    "        plt.scatter(x=X[ y == cl,0], y=X[ y == cl, 1],\n",
    "                   alpha = 0.8, c = cmap(idx),\n",
    "                   marker=markers[idx], label =cl)"
   ]
  },
  {
   "cell_type": "markdown",
   "metadata": {},
   "source": [
    "위 코드에서 색color과 표식marker의 개수를 정의했고 ListedColormap을 사용해서 색 목록으로부터 색 지도를 만들었다.\n",
    "이제 두 개의 피처에 대한 최소값과 최대값을 결정하고, \n",
    "이 피처 벡터들을 사용해서 Numpy meshgrid 함수를 통해 xx1, xx2그리드 배열 쌍을 생성하자. \n",
    "우리의 퍼셉트론 분류기를 2개의 피처 차원에 대해 훈련했기 때문에 predict 메서드를 사용해서 그리드 포인트에 해당하는 분류 레이블 z를 예측할 수 있도록 그리드 배열을 평평하게 해서 아이리스 훈련 데이터의 부분집합과 열의 개수가 같은 행렬을 생성해야 한다. \n",
    "예측된 분류 레이블 z를 xx1,xx2와 동일한 차원을 갖는 그리드에 재형성한 후, \n",
    "그리드 배열 내 각각의 예측된 분류에 대해서 서로 다른 결정 영역에는 서로 다른 색을 적용하는 matplotlib의 countourf함수를 사용하여 윤곽 플롯을 그릴수 있다."
   ]
  },
  {
   "cell_type": "code",
   "execution_count": 15,
   "metadata": {},
   "outputs": [
    {
     "data": {
      "image/png": "[encoded data removed]",
      "text/plain": [
       "<Figure size 432x288 with 1 Axes>"
      ]
     },
     "metadata": {},
     "output_type": "display_data"
    }
   ],
   "source": [
    "plot_decision_regions(X, y, classifier = ppn)\n",
    "plt.xlabel('sepal length [cm]')\n",
    "plt.ylabel('petal length [cm]')\n",
    "plt.legend(loc='upper left')\n",
    "plt.show()"
   ]
  },
  {
   "cell_type": "markdown",
   "metadata": {},
   "source": [
    "퍼셉트론은 아이리스 훈련데이터 부분 집합의 모든 꽃 샘플을 완벽하게 분류할 수 있는 결정경계를 학습했다."
   ]
  },
  {
   "cell_type": "markdown",
   "metadata": {},
   "source": [
    "# 에이다라인과 학습의 수렴"
   ]
  },
  {
   "cell_type": "markdown",
   "metadata": {},
   "source": [
    "![Image of Yaktocat](http://sebastianraschka.com/images/blog/2015/singlelayer_neural_networks_files/perceptron_vs_adaline.png)"
   ]
  },
  {
   "cell_type": "markdown",
   "metadata": {},
   "source": [
    "에이다라인 알고리즘이 특히 흥미로운 이유는 비용함수를 정의하고 최소화하는 것을 그 주요 개념으로 설명하고 있기 때문이다.\n",
    "퍼셉트론과 다른 점은 가중치가 퍼셉트론의 단위 계단 함수와 같은 것이 아닌, 선형 활성함수에 기초해서 업에디트 된다는 점이다."
   ]
  },
  {
   "cell_type": "markdown",
   "metadata": {},
   "source": [
    "# 2.3.2 파이썬으로 에이다라인 구현하기"
   ]
  },
  {
   "cell_type": "markdown",
   "metadata": {},
   "source": [
    "fitt메서드를 변경함으롰서 그래이언트 디센트를 이요한 비용함수 최소화에 의해 가중치가 갱신되도록 한다."
   ]
  },
  {
   "cell_type": "code",
   "execution_count": 16,
   "metadata": {},
   "outputs": [],
   "source": [
    "class AdalineGD(object):\n",
    "    def __init__(self, eta = 0.01, n_iter = 50):\n",
    "        self.eta = eta\n",
    "        self.n_iter = n_iter\n",
    "        \n",
    "    def fit(self, X, y):\n",
    "        self.w_ = np.zeros(1 + X.shape[1])\n",
    "        self.cost_ = []\n",
    "        \n",
    "        for i in range(self.n_iter):\n",
    "            output = self.net_input(X)\n",
    "            errors = ( y - output)\n",
    "            self.w_[1:] += self.eta * X.T.dot(errors)\n",
    "            self.w_[0] += self.eta * errors.sum()\n",
    "            cost = (errors**2).sum() /2.0\n",
    "            self.cost_.append(cost)\n",
    "        return self\n",
    "    \n",
    "    def net_input(self, X):\n",
    "        return np.dot(X, self.w_[1:]) + self.w_[0]\n",
    "    \n",
    "    def activation(self, X):\n",
    "        return self.net_input(X)\n",
    "    \n",
    "    def predict(self, X):\n",
    "        return np.where(self.activation(X) >= 0.0, 1, -1)\n",
    "    "
   ]
  },
  {
   "cell_type": "markdown",
   "metadata": {},
   "source": [
    "위 코드를 보며, 퍼셉트론에서처럼 각각의 개별 훈련 샘플을 평가한 후 가중치를 업데이트하는 대신 0가중치에 대해서는 self.eta*errors.sum()을 사용하고 가중치 1~m 값에 대해서는 self.eta*X.T.dot(errors)를 사용하여, 전체 훈련 데이터에 대한 기울기를 계산한다.\n",
    "여기서 X.T.dot(errors)는 우리의 피처행렬과 오차벡터사이의 행렬-벡터간 곱이다. 이전의 퍼셉트론 구현과 유사하게 훈련한 다음 알고리즘이 수렴되는지 여부를 확인하기 위해 self.cost_목록 내의 비용 값들을 수집한다."
   ]
  },
  {
   "cell_type": "markdown",
   "metadata": {},
   "source": [
    "학습률 테스트를 해본다, 하나는 eta1(learning rate) = 0.1,다른 하나는 eta2 = 0.0001   "
   ]
  },
  {
   "cell_type": "code",
   "execution_count": 17,
   "metadata": {},
   "outputs": [
    {
     "data": {
      "image/png": "[encoded data removed]",
      "text/plain": [
       "<Figure size 576x288 with 2 Axes>"
      ]
     },
     "metadata": {},
     "output_type": "display_data"
    }
   ],
   "source": [
    "fig, ax = plt.subplots(nrows =1, ncols = 2, figsize = (8,4))\n",
    "ada1 = AdalineGD(n_iter = 10, eta = 0.1).fit(X, y)\n",
    "ax[0].plot(range(1, len(ada1.cost_)+1),\n",
    "          np.log10(ada1.cost_), marker ='o')\n",
    "\n",
    "ax[0].set_xlabel('Epochs')\n",
    "ax[0].set_ylabel('log(Sum-squared-error)')\n",
    "ax[0].set_title('Adaline - Learning rate 0.1')\n",
    "\n",
    "ada2 = AdalineGD(n_iter = 10, eta = 0.0001).fit(X, y)\n",
    "ax[1].plot(range(1, len(ada2.cost_)+1),\n",
    "          np.log10(ada2.cost_), marker ='o')\n",
    "\n",
    "ax[1].set_xlabel('Epochs')\n",
    "ax[1].set_ylabel('log(Sum-squared-error)')\n",
    "ax[1].set_title('Adaline - Learning rate 0.0001')\n",
    "\n",
    "plt.show()"
   ]
  },
  {
   "cell_type": "markdown",
   "metadata": {},
   "source": [
    "learning rate는 사람이 잘 조절해야 하는 값이다 이런 값들을 하이퍼파라미터라고 한다."
   ]
  },
  {
   "cell_type": "markdown",
   "metadata": {},
   "source": [
    "learning rate가 너무 크면 발산해버리는 문제가 생기고, 너무 작으면 학습이 매우 느려진다, 따라서 적절하게 잡아야 한다."
   ]
  },
  {
   "cell_type": "markdown",
   "metadata": {},
   "source": [
    "또한 데이터들이 이뻐야 학습이 빨라진다. 데이터를 비교하기 쉽게 만드는 방법을 데이터 표준화라고 한다. 수치데이터 표준화는"
   ]
  },
  {
   "cell_type": "markdown",
   "metadata": {},
   "source": [
    "![Image of Yaktocat](http://cfile23.uf.tistory.com/image/27781244592BAE3F0B05F4)"
   ]
  },
  {
   "cell_type": "markdown",
   "metadata": {},
   "source": [
    "식이다.  우리는 데이터에 표준 정규분포의 성격을 부여하는 표준화하는 피처 스케일링 메서드를 사용할 것이다. 각 피처의 평균은 값 0에 중심을 두고 피처 열은 표준편차 1을 갖는다. xj는 전체 훈련 샘플 n중 j번째 피처값을 구성하는 벡터, 오메가j는 표준편차, Uj는 샘플 평균이다"
   ]
  },
  {
   "cell_type": "code",
   "execution_count": 18,
   "metadata": {},
   "outputs": [],
   "source": [
    "X_std = np.copy(X)\n",
    "X_std[:,0]=(X[:,0] - X[:,0].mean())/X[:,0].std()\n",
    "X_std[:,1]=(X[:,1] - X[:,1].mean())/X[:,1].std()"
   ]
  },
  {
   "cell_type": "markdown",
   "metadata": {},
   "source": [
    "위의 코드처럼 Numpy의 mean과 std를 사용하면 쉽게 표준화할 수 있다"
   ]
  },
  {
   "cell_type": "code",
   "execution_count": 19,
   "metadata": {},
   "outputs": [
    {
     "data": {
      "image/png": "[encoded data removed]",
      "text/plain": [
       "<Figure size 432x288 with 1 Axes>"
      ]
     },
     "metadata": {},
     "output_type": "display_data"
    },
    {
     "data": {
      "image/png": "[encoded data removed]",
      "text/plain": [
       "<Figure size 432x288 with 1 Axes>"
      ]
     },
     "metadata": {},
     "output_type": "display_data"
    }
   ],
   "source": [
    "ada = AdalineGD(n_iter = 15, eta = 0.01)\n",
    "ada.fit(X_std, y)\n",
    "plot_decision_regions(X_std, y, classifier = ada)\n",
    "plt.title('Adaline - Gradient Descent')\n",
    "plt.xlabel('sepal length [standardized]')\n",
    "plt.ylabel('petal length [standardized]')\n",
    "plt.legend(loc = 'upper left')\n",
    "plt.show()\n",
    "plt.plot(range(1, len(ada.cost_)+1), ada.cost_, marker='o')\n",
    "plt.xlabel('Epochs')\n",
    "plt.ylabel('Sum - squared - error')\n",
    "plt.show()"
   ]
  },
  {
   "cell_type": "markdown",
   "metadata": {},
   "source": [
    "# Stochastic gradient descent (확률적 그래디언트 디센트)"
   ]
  },
  {
   "cell_type": "markdown",
   "metadata": {},
   "source": [
    "지금까지 Loss function J(세타)의 값을 최소화하기 learning rate를 정하였다. 이때 Loss func을 계산할때 전체 train set를 사용했고 이것을 Batch gradient descent라고 부른다. 그러나 이 방식의 문제점은 한 learning rate(step)을 밟을 때 전체 데이터에 대한 Loss func을 구해야 하므로 train set이 엄청나게 많으면 그에 비례하게 오래 걸린다.이를 방지하기 위해 Stochastic gradient descent를 사용한다. 전체 train set을 계산해서 Loss func을 구해가는게 아니라 특정 mini-batch만큼 뽑아서 계산한구 Loss func을 구해나간다.\n",
    "batch gradient descent보다는 부정확하지만 train 해야할 데이터가 확 줄었기 때문에 같은 시간안에 더 많은 step을 갈 수 있고 결국에는 좋은 성능을 보인다. 또한  local minima에 빠지지 않는다."
   ]
  },
  {
   "cell_type": "code",
   "execution_count": 20,
   "metadata": {},
   "outputs": [],
   "source": [
    "from numpy.random import seed\n",
    "\n",
    "class AdalineSGD(object):\n",
    "    def __init__(self, eta =0.01, n_iter =10,\n",
    "                shuffle = True, random_state = None):\n",
    "        self.eta = eta\n",
    "        self.n_iter = n_iter\n",
    "        self.w_initialized = False\n",
    "        self.shuffle = shuffle\n",
    "        if random_state:\n",
    "            seed(random_state)\n",
    "            \n",
    "    def fit(self, X, y):\n",
    "        self._initialize_weights(X.shape[1])\n",
    "        self.cost_ = []\n",
    "        for i in range(self.n_iter):\n",
    "            if self.shuffle:\n",
    "                X, y= self._shuffle(X, y)\n",
    "            cost = []\n",
    "            for xi, target in zip(X, y):\n",
    "                cost.append(self._update_weights(xi, target))\n",
    "            avg_cost = sum(cost)/ len(y)\n",
    "            self.cost_.append(avg_cost)\n",
    "        return self\n",
    "    \n",
    "    def partial_fit(self , X, y):\n",
    "        if not self.w_initialized:\n",
    "            self._initialize_weights(X.shape[1])\n",
    "        if y.ravel().shape[0] > 1:\n",
    "            for xi, target in zip(X, y):\n",
    "                self._update_weights(xi, target)\n",
    "        else:\n",
    "            self._update_weights(X, y)\n",
    "        return self\n",
    "    \n",
    "    def _shuffle(self, X ,y):\n",
    "        r = np.random.permutation(len(y))\n",
    "        return X[r], y[r]\n",
    "    \n",
    "    def _initialize_weights(self, m):\n",
    "        self.w_ = np.zeros(1 + m)\n",
    "        self.w_initialized = True\n",
    "        \n",
    "    def _update_weights(self, xi, target):\n",
    "        output = self.net_input(xi)\n",
    "        error = (target - output )\n",
    "        self.w_[1:] += self.eta * xi.dot(error)\n",
    "        self.w_[0] += self.eta * error\n",
    "        cost = 0.5 * error **2\n",
    "        return cost \n",
    "    \n",
    "    def net_input(self, X):\n",
    "        return np.dot(X, self.w_[1:]) + self.w_[0]\n",
    "    \n",
    "    def activation(self, X):\n",
    "        return self.net_input(X)\n",
    "    \n",
    "    def predict(self, X):\n",
    "        return np.where(self.activation(X) >= 0.0, 1, -1)"
   ]
  },
  {
   "cell_type": "markdown",
   "metadata": {},
   "source": [
    "위의 AdalineSGD 분류기에서 사용하고 있는 _shuffle 메서드는 numpy.random 의 permutation 함수를 통해 0에서 100까지의 고유 숫자를 임의의 시퀀스로 생성한다. 이 숫자들을 피처행렬과 분류레이블 벡터를 섞기 위한 색인으로 사용할 수 있다. "
   ]
  },
  {
   "cell_type": "code",
   "execution_count": 21,
   "metadata": {},
   "outputs": [
    {
     "data": {
      "image/png": "[encoded data removed]",
      "text/plain": [
       "<Figure size 432x288 with 1 Axes>"
      ]
     },
     "metadata": {},
     "output_type": "display_data"
    },
    {
     "data": {
      "image/png": "[encoded data removed]",
      "text/plain": [
       "<Figure size 432x288 with 1 Axes>"
      ]
     },
     "metadata": {},
     "output_type": "display_data"
    }
   ],
   "source": [
    "ada = AdalineSGD(n_iter= 15, eta = 0.01 , random_state =1)\n",
    "ada.fit(X_std, y)\n",
    "plot_decision_regions(X_std, y, classifier = ada)\n",
    "plt.title('Adaline - Stochastic Gradient Descent')\n",
    "plt.xlabel(' sepal length [standardized]')\n",
    "plt.ylabel(' petal length [standardized]')\n",
    "plt.legend(loc = 'upper left')\n",
    "plt.show()\n",
    "plt.plot(range(1, len(ada.cost_) + 1), ada.cost_, marker = 'o')\n",
    "plt.xlabel('Epochs')\n",
    "plt.ylabel('Average Cost')\n",
    "plt.show()"
   ]
  },
  {
   "cell_type": "markdown",
   "metadata": {},
   "source": [
    "위의 그래프를 보면 초반부터 평균비용은 대단히 빠르게 하락했다. 15에폭부터는 배치 그래디언트 디센트와 유사하다. "
   ]
  },
  {
   "cell_type": "code",
   "execution_count": null,
   "metadata": {},
   "outputs": [],
   "source": []
  }
 ],
 "metadata": {
  "kernelspec": {
   "display_name": "Python [conda env:tensorflow]",
   "language": "python",
   "name": "conda-env-tensorflow-py"
  },
  "language_info": {
   "codemirror_mode": {
    "name": "ipython",
    "version": 3
   },
   "file_extension": ".py",
   "mimetype": "text/x-python",
   "name": "python",
   "nbconvert_exporter": "python",
   "pygments_lexer": "ipython3",
   "version": "3.6.4"
  }
 },
 "nbformat": 4,
 "nbformat_minor": 2
}
