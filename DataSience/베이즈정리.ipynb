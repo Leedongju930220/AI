{
 "cells": [
  {
   "cell_type": "markdown",
   "metadata": {},
   "source": [
    "# 종속성과 독립성"
   ]
  },
  {
   "cell_type": "markdown",
   "metadata": {},
   "source": [
    "사건 E의 발생 여부가 사건 F의 발생 여부에 대한 정보(혹은 그 반대로)를 제공한다면 두 사건 E와 F는 종속사건으로 볼 수 있다.\n",
    "그렇지 않다면 두 사건은 독립사건이다\n",
    "수학적으로 , 사건 E와  F가 동시에 발생할 확률이 각각 사건이 발생할 확률의 곱과 같다면 두 사건은 독립사건을 의미한다.\n",
    "P(E,F) = P(E)P(F)\n",
    "동전 던지기 예시를 다시 살펴보면 첫 번째 동전에서 앞면이 나올 확률은 1/2이고 두 동전이 모두 뒷면일 확률은 1/4이다. 하지만 첫 번째 동전이 앞면이고 두 동전이 뒷면일 확률은  0이기 때문에 두 사건은 종속 사건이다."
   ]
  },
  {
   "cell_type": "markdown",
   "metadata": {},
   "source": [
    "# 조건부 확률"
   ]
  },
  {
   "cell_type": "markdown",
   "metadata": {},
   "source": [
    "두 사건이 반드시 독립 사건이라는 보장이 없고 사건 F의 확률이 0이 아닌 경우, 사건 E가 발생할 조건부 확률을 다음과 같이 정의할 수 있다.\n",
    "\n",
    "P(E|F) = P(E,F)/P(E)  == P(E,F) = P(E|F)P(E)\n",
    "따라서 사건 E와 F가 독립 사건이라면, \n",
    "\n",
    "P(E|F) = P(E)이다."
   ]
  },
  {
   "cell_type": "code",
   "execution_count": 10,
   "metadata": {},
   "outputs": [
    {
     "name": "stdout",
     "output_type": "stream",
     "text": [
      "P(both | older):  0.5007089325501317\n",
      "P(both | either):  0.3311897106109325\n"
     ]
    }
   ],
   "source": [
    "import random\n",
    "\n",
    "def random_kid():\n",
    "    return random.choice([\"boy\", \"girl\"])\n",
    "\n",
    "both_girls = 0;\n",
    "older_girl = 0;\n",
    "either_girl = 0;\n",
    "\n",
    "random.seed(0)\n",
    "for _ in range(10000):\n",
    "    younger = random_kid()\n",
    "    older = random_kid()\n",
    "    if older == \"girl\":\n",
    "        older_girl +=1\n",
    "    if older == \"girl\" and younger == \"girl\":\n",
    "        both_girls +=1\n",
    "    if older == \"girl\" or younger == \"girl\":\n",
    "        either_girl +=1\n",
    "\n",
    "print (\"P(both | older): \", both_girls /older_girl)\n",
    "print (\"P(both | either): \", both_girls / either_girl )"
   ]
  },
  {
   "cell_type": "markdown",
   "metadata": {},
   "source": [
    "# 베이즈 정리"
   ]
  },
  {
   "cell_type": "markdown",
   "metadata": {},
   "source": [
    "조건부 확률을 '반대로 뒤집는' 베이즈 정리.\n",
    "가령 , 사건 F가 발생했다는 가정하에 사건 E가 발생할 확률이 필요하다고 해보자. 하지만 사건 E가 발생했다는 가정하에 사건 F가 발생할 확률만 주어졌다. 조건부 확률의 정의를 두 번 사용하면 다음과 같이 식을 정리할 수 있다.\n",
    "P(E|F) = P(E,F)/P(F) = P(F|E)P(E)/P(F)\n",
    "\n",
    "사건 F를 '사건 F와 사건 E가 모두 발생하는 경우'와\n",
    "'사건 F는 발생하지만 사건 E는 발생하지 않는 경우' 두 상호 배타적인 사건으로 나눌 수 있다.\n",
    "만약 '사건 E가 발생하지 않는 경우'를 ~E로 표현한다면 , 다음 식으로 표현할 수 있다.\n",
    "\n",
    "P(F) = P(F,E) + P(F,~E)\n",
    "이를 이용하면 베이즈 정리는 다시 다음과 같이 정리할 수 있다.\n",
    "\n",
    "P(E|F) = P(F|E)P(E) / { P(F|E)P(E) + P(F|~E)P(~E) }\n",
    "\n",
    "예를 들어, 10000명 중에 1명이 걸리는 질병이 있다고 상상해 보자, 질병이 있는 경우 양성, 없는 경우 음성이라고 판단하는 검사가 99%의 경우에 대해 정확한 판단을 내린다고 해보자.\n",
    "\n",
    "그렇다면 양성 판정을 받았다는 것은 무엇을 의미하는 것일까?\n",
    "사건 T는 양성판정을 나타내고, 사건 D는 질병에 걸렸다는 것을 나타낸다고 해보자. 양성 판정인 경우, 실제로 병에 걸렸을 확률을 베이즈 정리를 사용해서 풀어 보면 \n",
    "P(D|T) =  P(T|D)P(D) / { P(T|D)P(D) + P(T|~D)P(~D) }\n",
    "질병에 걸린 사람이 양성판정을 받을 확률을 나타내는 P(T|D)가  0.99라는 것을 알고, 특정 사람이 질병에 걸릴 확률인 P(D)가 \n",
    "1/10000 = 0.0001이라는 것도 알고 있다. 그리고 질병이 없는 사람이 양성 판정을 받는 확률인 P(T|~D)는  0.01이라는 것을 알 수 있다.\n",
    "또한 특정 사람이 질병에 걸리지 않았을 확률인 P(~D)는 0.9999라는 것을 알고 있다 이 숫자들을 위의 베이즈 정리에 대입해 보면 다음과 같은 값이 계산된다.\n",
    "P(D|T) = 0.98%\n",
    "즉, 양성 판정을 받은 사람 중 실제로 질병에 걸린 사람은  1%도 안 된다는 것을 의미한다."
   ]
  },
  {
   "cell_type": "code",
   "execution_count": null,
   "metadata": {},
   "outputs": [],
   "source": []
  }
 ],
 "metadata": {
  "kernelspec": {
   "display_name": "Python [conda env:tensorflow]",
   "language": "python",
   "name": "conda-env-tensorflow-py"
  },
  "language_info": {
   "codemirror_mode": {
    "name": "ipython",
    "version": 3
   },
   "file_extension": ".py",
   "mimetype": "text/x-python",
   "name": "python",
   "nbconvert_exporter": "python",
   "pygments_lexer": "ipython3",
   "version": "3.6.4"
  }
 },
 "nbformat": 4,
 "nbformat_minor": 2
}
